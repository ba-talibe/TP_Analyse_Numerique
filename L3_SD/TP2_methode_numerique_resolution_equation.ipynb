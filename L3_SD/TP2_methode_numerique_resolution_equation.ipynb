{
 "cells": [
  {
   "cell_type": "code",
   "execution_count": 2,
   "metadata": {},
   "outputs": [],
   "source": [
    "import numpy as np\n",
    "from scipy import optimize\n",
    "from abc import *"
   ]
  },
  {
   "attachments": {},
   "cell_type": "markdown",
   "metadata": {},
   "source": [
    "# Classe abstraite des resolveur d'equation "
   ]
  },
  {
   "cell_type": "code",
   "execution_count": 3,
   "metadata": {},
   "outputs": [],
   "source": [
    "class Resolver(ABC):\n",
    "    \"\"\"\n",
    "    Lors de l'appelle d'un resolver une recine est retourner avec soit la presicion soit le nombre d'iteration\n",
    "    les hypothese de convergence de chaque methode seront verifier par des assertions a \n",
    "    \"\"\"\n",
    "    @abstractclassmethod\n",
    "    def __call__(self, precision=None, iteration=None, has_converged=None) -> tuple :\n",
    "        pass\n",
    "    \n",
    "    "
   ]
  },
  {
   "cell_type": "code",
   "execution_count": 4,
   "metadata": {},
   "outputs": [],
   "source": [
    "def methode_comparator(f):\n",
    "        \"\"\"\n",
    "        Cette methode est un decorateur qui va tester et comparer notre Resolver a des fonctions de scipy\n",
    "        \"\"\"\n",
    "        pass"
   ]
  },
  {
   "cell_type": "code",
   "execution_count": 5,
   "metadata": {},
   "outputs": [],
   "source": [
    "from typing import Optional, Any\n",
    "from dataclasses import dataclass\n",
    "\n",
    "@dataclass\n",
    "class Racine():\n",
    "    racine : float\n",
    "    precision : Optional[float]\n",
    "    iteration : Optional[int]"
   ]
  },
  {
   "cell_type": "code",
   "execution_count": 6,
   "metadata": {},
   "outputs": [],
   "source": [
    "class MaxtIterationExceded(BaseException):\n",
    "    pass\n",
    "\n",
    "class RacineOutOfIntervale(BaseException):\n",
    "    pass"
   ]
  },
  {
   "attachments": {},
   "cell_type": "markdown",
   "metadata": {},
   "source": [
    "# La dichotomie"
   ]
  },
  {
   "cell_type": "code",
   "execution_count": 7,
   "metadata": {},
   "outputs": [],
   "source": [
    "\n",
    "\n",
    "class Dichtomie(Resolver):\n",
    "\n",
    "    def __new__(cls, f, a, b) :\n",
    "        if f(a)*f(b) >0:\n",
    "            raise RacineOutOfIntervale()\n",
    "        obj = object.__new__(cls)\n",
    "        obj.f = f\n",
    "        obj.a, obj.b = min(a, b), max(a, b)\n",
    "        return obj\n",
    "            \n",
    "        \n",
    "\n",
    "    def __call__(self, precision=None, iteration=None, maxiter=10**9) -> Racine:\n",
    "        assert precision != None or iteration != None, \"precision et nombre d'iteration tous null\" \n",
    "        \n",
    "        f, a, b = self.f, self.a, self.b\n",
    "        if precision:\n",
    "            i = 0\n",
    "            while np.abs(b-a) > precision:\n",
    "                c = (a+b)/2\n",
    "                if f(a)*f(c) < 0:\n",
    "                    b = c\n",
    "                else:\n",
    "                    a = c\n",
    "                i +=1\n",
    "                if i == maxiter:\n",
    "                    raise MaxtIterationExceded()\n",
    "            return Racine(\n",
    "                racine=(a+b)/2,\n",
    "                precision=precision,\n",
    "                iteration=i\n",
    "            )\n",
    "        \n",
    "        if iteration:\n",
    "            for i in range(iteration):\n",
    "                c = (a+b)/2\n",
    "                if f(a)*f(c) < 0:\n",
    "                    b = c\n",
    "                else:\n",
    "                    a = c\n",
    "\n",
    "            \n",
    "            precision = (b-a)\n",
    "            \n",
    "            return Racine(\n",
    "                racine=(a+b)/2,\n",
    "                precision=precision,\n",
    "                iteration=iteration\n",
    "            )\n",
    "        "
   ]
  },
  {
   "cell_type": "code",
   "execution_count": 8,
   "metadata": {},
   "outputs": [
    {
     "name": "stdout",
     "output_type": "stream",
     "text": [
      "np.exp(-x/10)-x     |  racine calcule      |  nombre d'iteration  |  precision           \n",
      "                    |  0.912750244140625   |  14                  |  0.0001              \n",
      "                    |  0.9127616882324219  |  17                  |  1e-05               \n",
      "                    |  0.9127650260925293  |  20                  |  1e-06               \n",
      "                    |  0.9127652943134308  |  24                  |  1e-07               \n",
      "                    |  0.9127652682363987  |  27                  |  1e-08               \n",
      "                    |  0.9127652714960277  |  30                  |  1e-09               \n"
     ]
    }
   ],
   "source": [
    "f = lambda x : np.exp(-x/10)-x\n",
    "\n",
    "dichtomie = Dichtomie(f, 0, 1) \n",
    "entete = \"{:<20}|  {:<20}|  {:<20}|  {:<20}\".format(\"np.exp(-x/10)-x\", \"racine calcule\", \"nombre d'iteration\",\"precision\" )\n",
    "print(entete)\n",
    "\n",
    "for precision in [10**-i for i in range(4, 10)]:\n",
    "    racine = dichtomie(precision=precision)\n",
    "    ligne= \"{:<20}|  {:<20}|  {:<20}|  {:<20}\".format(\"\", racine.racine, racine.iteration, racine.precision)\n",
    "    print(ligne)"
   ]
  },
  {
   "cell_type": "code",
   "execution_count": 9,
   "metadata": {},
   "outputs": [
    {
     "name": "stdout",
     "output_type": "stream",
     "text": [
      "                    |  0.9127578735351562  |  16                  |  1.52587890625e-05   \n",
      "                    |  0.912765271612443   |  32                  |  2.3283064365386963e-10\n",
      "                    |  0.9127652716086228  |  64                  |  0.0                 \n",
      "                    |  0.9127652716086228  |  128                 |  0.0                 \n",
      "                    |  0.9127652716086228  |  256                 |  0.0                 \n",
      "                    |  0.9127652716086228  |  512                 |  0.0                 \n"
     ]
    }
   ],
   "source": [
    "\n",
    "for iteration in [2**i for i in range(4, 10)]:\n",
    "    racine = dichtomie(iteration=iteration)\n",
    "    ligne= \"{:<20}|  {:<20}|  {:<20}|  {:<20}\".format(\"\", racine.racine, racine.iteration, racine.precision)\n",
    "    print(ligne)"
   ]
  },
  {
   "attachments": {},
   "cell_type": "markdown",
   "metadata": {},
   "source": [
    "# Fausse position"
   ]
  },
  {
   "cell_type": "code",
   "execution_count": 10,
   "metadata": {},
   "outputs": [],
   "source": [
    "class LagrangeResolver(Resolver):\n",
    "\n",
    "    def __new__(cls, f, a, b) :\n",
    "        if f(a)*f(b) >0:\n",
    "            raise RacineOutOfIntervale()\n",
    "        obj = object.__new__(cls)\n",
    "        obj.f = f\n",
    "        obj.a, obj.b = min(a, b), max(a, b)\n",
    "        return obj\n",
    "            \n",
    "        \n",
    "\n",
    "    def __call__(self, precision=None, iteration=None, maxiter=10**9) -> Racine:\n",
    "        assert precision != None or iteration != None, \"precision et nombre d'iteration tous null\" \n",
    "\n",
    "        f, a, b = self.f, self.a, self.b\n",
    "        if precision:\n",
    "            i = 0\n",
    "            while np.abs(b-a) > precision:\n",
    "                c = a -  f(a)*(a - b)/(f(a) - f(b))\n",
    "                if f(a)*f(c) < 0:\n",
    "                    b = c\n",
    "                else:\n",
    "                    a = c\n",
    "                i +=1\n",
    "                if i == maxiter:\n",
    "                    raise MaxtIterationExceded()\n",
    "            return Racine(\n",
    "                racine=c,\n",
    "                precision=precision,\n",
    "                iteration=i\n",
    "            )\n",
    "        \n",
    "        if iteration:\n",
    "            for i in range(iteration):\n",
    "                c = a -  f(a)*(a - b)/(f(a) - f(b))\n",
    "                if f(a)*f(c) < 0:\n",
    "                    b = c\n",
    "                else:\n",
    "                    a = c\n",
    "            precision = np.min([np.abs(c-a), np.abs(c-b)])\n",
    "            return Racine(\n",
    "                racine=c,\n",
    "                precision=precision,\n",
    "                iteration=iteration\n",
    "            )\n",
    "\n"
   ]
  },
  {
   "cell_type": "code",
   "execution_count": 11,
   "metadata": {},
   "outputs": [
    {
     "name": "stdout",
     "output_type": "stream",
     "text": [
      "np.exp(-x/10)-x     |  racine calcule      |  nombre d'iteration  |  precision           \n",
      "                    |  0.9127652716086226  |  7                   |  1e-05               \n",
      "                    |  0.9127652716086226  |  7                   |  1e-06               \n",
      "                    |  0.9127652716086226  |  7                   |  1e-07               \n",
      "                    |  0.9127652716086226  |  7                   |  1e-08               \n",
      "                    |  0.9127652716086226  |  7                   |  1e-09               \n"
     ]
    }
   ],
   "source": [
    "\n",
    "\n",
    "lagrange = LagrangeResolver(f, 0, 1) \n",
    "entete = \"{:<20}|  {:<20}|  {:<20}|  {:<20}\".format(\"np.exp(-x/10)-x\", \"racine calcule\", \"nombre d'iteration\",\"precision\" )\n",
    "print(entete)\n",
    "\n",
    "for precision in [10**-i for i in range(5, 10)]:\n",
    "    racine = lagrange(precision=precision)\n",
    "    ligne= \"{:<20}|  {:<20}|  {:<20}|  {:<20}\".format(\"\", racine.racine, racine.iteration, racine.precision)\n",
    "    print(ligne)"
   ]
  },
  {
   "cell_type": "code",
   "execution_count": 12,
   "metadata": {},
   "outputs": [
    {
     "name": "stdout",
     "output_type": "stream",
     "text": [
      "np.exp(-x/10)-x     |  racine calcule      |  nombre d'iteration  |  precision           \n",
      "                    |  0.875               |  2                   |  0.25                \n",
      "                    |  0.90625             |  4                   |  0.0625              \n",
      "                    |  0.912109375         |  8                   |  0.00390625          \n",
      "                    |  0.9127578735351562  |  16                  |  1.52587890625e-05   \n",
      "                    |  0.912765271612443   |  32                  |  2.3283064365386963e-10\n",
      "                    |  0.9127652716086228  |  64                  |  0.0                 \n"
     ]
    }
   ],
   "source": [
    "print(entete)\n",
    "for iteration in [2**i for i in range(1, 7)]:\n",
    "    racine = dichtomie(iteration=iteration)\n",
    "    ligne= \"{:<20}|  {:<20}|  {:<20}|  {:<20}\".format(\"\", racine.racine, racine.iteration, racine.precision)\n",
    "    print(ligne)"
   ]
  },
  {
   "attachments": {},
   "cell_type": "markdown",
   "metadata": {},
   "source": [
    "# Fibonacci"
   ]
  },
  {
   "cell_type": "code",
   "execution_count": 13,
   "metadata": {},
   "outputs": [],
   "source": [
    "memory = np.array([1, 1])\n",
    "\n",
    "def fibonacci(n):\n",
    "    global memory\n",
    "    if len(memory)>n:\n",
    "        return memory[n]\n",
    "    v = fibonacci(n-1)+fibonacci(n-2)\n",
    "    memory = np.append(memory, v)\n",
    "    return v"
   ]
  },
  {
   "cell_type": "code",
   "execution_count": 14,
   "metadata": {},
   "outputs": [
    {
     "name": "stdout",
     "output_type": "stream",
     "text": [
      "[1 1]\n"
     ]
    }
   ],
   "source": [
    "print(memory)"
   ]
  },
  {
   "cell_type": "code",
   "execution_count": 15,
   "metadata": {},
   "outputs": [
    {
     "data": {
      "text/plain": [
       "3"
      ]
     },
     "execution_count": 15,
     "metadata": {},
     "output_type": "execute_result"
    }
   ],
   "source": [
    "fibonacci(3)"
   ]
  },
  {
   "cell_type": "code",
   "execution_count": 16,
   "metadata": {},
   "outputs": [
    {
     "data": {
      "text/plain": [
       "34"
      ]
     },
     "execution_count": 16,
     "metadata": {},
     "output_type": "execute_result"
    }
   ],
   "source": [
    "fibonacci(8)"
   ]
  },
  {
   "cell_type": "code",
   "execution_count": 17,
   "metadata": {},
   "outputs": [
    {
     "name": "stdout",
     "output_type": "stream",
     "text": [
      "[ 1  1  2  3  5  8 13 21 34]\n"
     ]
    }
   ],
   "source": [
    "print(memory)\n"
   ]
  },
  {
   "attachments": {},
   "cell_type": "markdown",
   "metadata": {},
   "source": [
    "# Methode de la Secante"
   ]
  },
  {
   "cell_type": "code",
   "execution_count": 18,
   "metadata": {},
   "outputs": [],
   "source": [
    "class SecanteResolver(Resolver):\n",
    "\n",
    "    def __new__(cls, f, a, b) :\n",
    "        if f(a)*f(b) >0:\n",
    "            raise RacineOutOfIntervale()\n",
    "        obj = object.__new__(cls)\n",
    "        obj.f = f\n",
    "        obj.a, obj.b = min(a, b), max(a, b)\n",
    "        return obj\n",
    "            \n",
    "        \n",
    "\n",
    "    def __call__(self, precision=None, iteration=None, maxiter=10**6) -> Racine:\n",
    "        assert precision != None or iteration != None, \"precision et nombre d'iteration tous null\" \n",
    "\n",
    "        f, xm, xi = self.f, self.a, self.b\n",
    "        #xm x i-1\n",
    "        #xi x i \n",
    "        #xp x i+1\n",
    "        if precision:\n",
    "            i = 0\n",
    "            while np.abs(xi-xm) > precision:\n",
    "                xp= xm -  f(xm)*(xm - xi)/(f(xm) - f(xi))\n",
    "                xm = xi\n",
    "                xi = xp\n",
    "\n",
    "                i +=1\n",
    "                if i == maxiter:\n",
    "                    raise MaxtIterationExceded()\n",
    "            return Racine(\n",
    "                racine=xi,\n",
    "                precision=precision,\n",
    "                iteration=i\n",
    "            )\n",
    "        \n",
    "        if iteration:\n",
    "            for i in range(iteration):\n",
    "                if f(xm) - f(xi) == 0:\n",
    "                    break\n",
    "                xp= xm -  f(xm)*(xm - xi)/(f(xm) - f(xi))\n",
    "                \n",
    "                xm = xi\n",
    "                xi = xp\n",
    "                \n",
    "            precision = np.abs(xi-xm)\n",
    "            return Racine(\n",
    "                racine=xp,\n",
    "                precision=precision,\n",
    "                iteration=iteration\n",
    "            )\n"
   ]
  },
  {
   "cell_type": "code",
   "execution_count": 19,
   "metadata": {},
   "outputs": [
    {
     "name": "stdout",
     "output_type": "stream",
     "text": [
      "np.exp(-x/10)-x     |  racine calcule      |  nombre d'iteration  |  precision           \n",
      "                    |  0.9127652716087997  |  3                   |  1e-05               \n",
      "                    |  0.9127652716087997  |  3                   |  1e-06               \n",
      "                    |  0.9127652716086226  |  4                   |  1e-07               \n",
      "                    |  0.9127652716086226  |  4                   |  1e-08               \n",
      "                    |  0.9127652716086226  |  4                   |  1e-09               \n"
     ]
    }
   ],
   "source": [
    "\n",
    "\n",
    "secante = SecanteResolver(f, 0, 1) \n",
    "entete = \"{:<20}|  {:<20}|  {:<20}|  {:<20}\".format(\"np.exp(-x/10)-x\", \"racine calcule\", \"nombre d'iteration\",\"precision\" )\n",
    "\n",
    "print(entete)\n",
    "for precision in [10**-i for i in range(5, 10)]:\n",
    "    racine = secante(precision=precision)\n",
    "    ligne= \"{:<20}|  {:<20}|  {:<20}|  {:<20}\".format(\"\", racine.racine, racine.iteration, racine.precision)\n",
    "    print(ligne)"
   ]
  },
  {
   "cell_type": "code",
   "execution_count": 20,
   "metadata": {},
   "outputs": [
    {
     "name": "stdout",
     "output_type": "stream",
     "text": [
      "np.exp(-x/10)-x     |  racine calcule      |  nombre d'iteration  |  precision           \n",
      "                    |  0.9127651474614689  |  2                   |  0.0003412866595928765\n",
      "                    |  0.9127652716086226  |  4                   |  1.7708057242771247e-13\n",
      "                    |  0.9127652716086226  |  8                   |  0.0                 \n",
      "                    |  0.9127652716086226  |  16                  |  0.0                 \n"
     ]
    }
   ],
   "source": [
    "print(entete)\n",
    "for iteration in [2**i for i in range(1, 5)]:\n",
    "    racine = secante(iteration=iteration)\n",
    "    ligne= \"{:<20}|  {:<20}|  {:<20}|  {:<20}\".format(\"\", racine.racine, racine.iteration, racine.precision)\n",
    "    print(ligne)"
   ]
  },
  {
   "attachments": {},
   "cell_type": "markdown",
   "metadata": {},
   "source": [
    "## comparaison avec scipy.optimize.root_scaler(methode=\"secant\")"
   ]
  },
  {
   "cell_type": "code",
   "execution_count": 21,
   "metadata": {},
   "outputs": [],
   "source": [
    "from scipy.optimize import root_scalar"
   ]
  },
  {
   "cell_type": "code",
   "execution_count": 22,
   "metadata": {},
   "outputs": [
    {
     "name": "stdout",
     "output_type": "stream",
     "text": [
      "np.exp(-x/10)-x     |  racine calcule      |  nombre d'iteration  |  racine scipy        |  nombre d'iteration scipy\n",
      "                    |  0.9127652716086226  |  4                   |  0.9127652716086226  |  4                   \n"
     ]
    }
   ],
   "source": [
    "root = root_scalar(f,x0=0, x1=1, method=\"secant\")\n",
    "racine = secante(precision=10**(-10))\n",
    "\n",
    "\n",
    "entete = \"{:<20}|  {:<20}|  {:<20}|  {:<20}|  {:<20}\".format(\"np.exp(-x/10)-x\", \"racine calcule\",\"nombre d'iteration\", \"racine scipy\", \"nombre d'iteration scipy\" )\n",
    "\n",
    "print(entete)\n",
    "\n",
    "ligne= \"{:<20}|  {:<20}|  {:<20}|  {:<20}|  {:<20}\".format(\"\", racine.racine, racine.iteration, root.root, root.iterations)\n",
    "print(ligne)"
   ]
  },
  {
   "attachments": {},
   "cell_type": "markdown",
   "metadata": {},
   "source": [
    "# Methode de Newton"
   ]
  },
  {
   "cell_type": "code",
   "execution_count": 58,
   "metadata": {},
   "outputs": [],
   "source": [
    "class NewtonResolver(Resolver):\n",
    "    h = np.finfo(float).eps*4\n",
    "    \n",
    "    def __new__(cls, f, x0, a, b, ) :\n",
    "        if f(a)*f(b) >0:\n",
    "            raise RacineOutOfIntervale()\n",
    "        a, b = min(a, b), max(a, b)\n",
    "        assert a <= x0 <= b\n",
    "        #assert NewtonResolver.derive_1(f, x0) *NewtonResolver.derive_2(f, x0) > 0\n",
    "        # verification de la concavité\n",
    "        obj = object.__new__(cls)\n",
    "        obj.f = f\n",
    "        obj.a, obj.b = min(a, b), max(a, b)\n",
    "        obj.x0 = x0\n",
    "        return obj\n",
    "\n",
    "    @classmethod\n",
    "    def derive_1(cls, f, x0):\n",
    "        h = NewtonResolver.h\n",
    "        return (f(x0+h) - f(x0-h))/(2*h)\n",
    "\n",
    "    @classmethod\n",
    "    def derive_2(cls, f, x0):\n",
    "        h = NewtonResolver.h\n",
    "        return (f(x0+h) + f(x0-h) - 2*f(x0))/(h**2)\n",
    "    \n",
    "            \n",
    "        \n",
    "\n",
    "    def __call__(self,fprime=None, precision=None, iteration=None, maxiter=10**6) -> Racine:\n",
    "        assert precision != None or iteration != None, \"precision et nombre d'iteration tous null\" \n",
    "\n",
    "        f, a, b, xi = self.f, self.a, self.b, self.x0\n",
    "        i = 1\n",
    "        \n",
    "        if not fprime:\n",
    "            fprime = NewtonResolver.derive_1\n",
    "\n",
    "        xp = xi - f(xi)/fprime(f, xi)\n",
    "        if precision:\n",
    "            while np.abs(xi - xp) > precision :\n",
    "                xi = xp\n",
    "                if fprime(f, xi) < NewtonResolver.h:\n",
    "                    break\n",
    "\n",
    "                xp =xi - f(xi)/fprime(f, xi)\n",
    "                i += 1\n",
    "                if i == maxiter:\n",
    "                    raise MaxtIterationExceded(\"Nombre d'iteration maximal atteinte, racine obtenue \", xp)\n",
    "            return Racine(\n",
    "                racine=xp,\n",
    "                precision=precision,\n",
    "                iteration=i\n",
    "            )\n",
    "        \n",
    "        if iteration:\n",
    "            for i in range(iteration):\n",
    "                xi = xp\n",
    "                xp =xi - f(xi)/fprime(f, xi)\n",
    "                \n",
    "            precision = np.abs(xi-xp)\n",
    "            return Racine(\n",
    "                racine=xp,\n",
    "                precision=precision,\n",
    "                iteration=iteration\n",
    "            )\n"
   ]
  },
  {
   "attachments": {},
   "cell_type": "markdown",
   "metadata": {},
   "source": [
    "## Resoltion de Newton avec frime de approximé"
   ]
  },
  {
   "cell_type": "code",
   "execution_count": 45,
   "metadata": {},
   "outputs": [
    {
     "name": "stdout",
     "output_type": "stream",
     "text": [
      "(1/3)*x**3 - 2*x**2 + 3*x - (5/2)  |  racine calcule      |  nombre d'iteration  |  precision           \n",
      "                                   |  4.317935804416695   |  14                  |  1e-05               \n",
      "                                   |  4.3179259285967735  |  15                  |  1e-06               \n",
      "                                   |  4.3179259285967735  |  15                  |  1e-07               \n",
      "                                   |  4.3179259285967735  |  15                  |  1e-08               \n",
      "                                   |  4.3179259285967735  |  15                  |  1e-09               \n"
     ]
    }
   ],
   "source": [
    "f =lambda x: (1/3)*x**3 - 2*x**2 + 3*x - (5/2)\n",
    "\n",
    "newton = NewtonResolver(f,4.1, 4, 5) \n",
    "entete = \"{:<35}|  {:<20}|  {:<20}|  {:<20}\".format(\"(1/3)*x**3 - 2*x**2 + 3*x - (5/2)\", \"racine calcule\", \"nombre d'iteration\",\"precision\" )\n",
    "\n",
    "print(entete)\n",
    "for precision in [10**-i for i in range(5, 10)]:\n",
    "    racine = newton(precision=precision)\n",
    "    ligne= \"{:<35}|  {:<20}|  {:<20}|  {:<20}\".format(\"\", racine.racine, racine.iteration, racine.precision)\n",
    "    print(ligne)"
   ]
  },
  {
   "attachments": {},
   "cell_type": "markdown",
   "metadata": {},
   "source": [
    "## Resoltion de Newton avec frime analytique"
   ]
  },
  {
   "cell_type": "code",
   "execution_count": 46,
   "metadata": {},
   "outputs": [
    {
     "name": "stdout",
     "output_type": "stream",
     "text": [
      "(1/3)*x**3 - 2*x**2 + 3*x - (5/2)  |  racine calcule      |  nombre d'iteration  |  precision           \n",
      "                                   |  4.317931287501243   |  3                   |  1e-05               \n",
      "                                   |  4.317931287501243   |  3                   |  1e-06               \n",
      "                                   |  4.317931287501235   |  4                   |  1e-07               \n",
      "                                   |  4.317931287501235   |  4                   |  1e-08               \n",
      "                                   |  4.317931287501235   |  4                   |  1e-09               \n"
     ]
    }
   ],
   "source": [
    "\n",
    "f =lambda x: (1/3)*x**3 - 2*x**2 + 3*x - (5/2)\n",
    "fprime = lambda f, x : x**2 - 4*x + 3\n",
    "newton = NewtonResolver(f,4.1, 4, 5) \n",
    "entete = \"{:<35}|  {:<20}|  {:<20}|  {:<20}\".format(\"(1/3)*x**3 - 2*x**2 + 3*x - (5/2)\", \"racine calcule\", \"nombre d'iteration\",\"precision\" )\n",
    "\n",
    "print(entete)\n",
    "for precision in [10**-i for i in range(5, 10)]:\n",
    "    racine = newton(fprime=fprime, precision=precision)\n",
    "    ligne= \"{:<35}|  {:<20}|  {:<20}|  {:<20}\".format(\"\", racine.racine, racine.iteration, racine.precision)\n",
    "    print(ligne)"
   ]
  },
  {
   "attachments": {},
   "cell_type": "markdown",
   "metadata": {},
   "source": [
    "## comparaison avec scipy.optimize.root_scaler(methode=\"secant\")"
   ]
  },
  {
   "attachments": {},
   "cell_type": "markdown",
   "metadata": {},
   "source": [
    "# "
   ]
  },
  {
   "cell_type": "code",
   "execution_count": null,
   "metadata": {},
   "outputs": [],
   "source": [
    "from scipy.optimize import root_scalar"
   ]
  },
  {
   "cell_type": "code",
   "execution_count": 60,
   "metadata": {},
   "outputs": [
    {
     "name": "stdout",
     "output_type": "stream",
     "text": [
      "(1/3)*x**3 - 2*x**2 + 3*x - (5/2)  |  racine calcule      |  nombre d'iteration  |  racine scipy        |  nombre d'iteration scipy\n",
      "                                   |  4.317931287501235   |  4                   |  4.317931287501235   |  5                   \n"
     ]
    }
   ],
   "source": [
    "fprime_scpiy = lambda  x : x**2 - 4*x + 3\n",
    "fprime = lambda f, x: fprime_scpiy(x)\n",
    "\n",
    "racine = newton(fprime=fprime, precision=10**(-10))\n",
    "\n",
    "entete = \"{:<35}|  {:<20}|  {:<20}|  {:<20}|  {:<20}\".format(\"(1/3)*x**3 - 2*x**2 + 3*x - (5/2)\", \"racine calcule\",\"nombre d'iteration\", \"racine scipy\", \"nombre d'iteration scipy\")\n",
    "\n",
    "print(entete)\n",
    "\n",
    "ligne= \"{:<35}|  {:<20}|  {:<20}|  {:<20}|  {:<20}\".format(\"\", racine.racine, racine.iteration, root.root, root.iterations)\n",
    "print(ligne)"
   ]
  },
  {
   "attachments": {},
   "cell_type": "markdown",
   "metadata": {},
   "source": [
    "# Methode du point fixe"
   ]
  },
  {
   "cell_type": "code",
   "execution_count": 83,
   "metadata": {},
   "outputs": [],
   "source": [
    "class FixedPoint(Resolver):\n",
    "    \n",
    "    def __new__(cls, f, g, a, b,  x0=None) :\n",
    "        \n",
    "        a, b = min(a, b), max(a, b)\n",
    "        if not x0:\n",
    "            x0 = a\n",
    "        else:\n",
    "            assert a <= x0 <= b\n",
    "\n",
    "        \n",
    "        \n",
    "        interval = np.linspace(a, b, 100)\n",
    "        interval_img = NewtonResolver.derive_1(g, interval)\n",
    "        interval_img = np.abs(interval_img)\n",
    "        if not all(interval_img < 1):\n",
    "            raise RacineOutOfIntervale(\"Le resolution est impossible sur cette intervale : g n'est pas contracte\")\n",
    "        \n",
    "        \n",
    "        \n",
    "       \n",
    "        obj = object.__new__(cls)\n",
    "        obj.f = f\n",
    "        obj.g = g\n",
    "        obj.a, obj.b = min(a, b), max(a, b)\n",
    "        obj.x0 = x0\n",
    "        return obj\n",
    "    \n",
    "            \n",
    "        \n",
    "\n",
    "    def __call__(self, fprime=None, precision=None, iteration=None, maxiter=10**6) -> Racine:\n",
    "        assert precision != None or iteration != None, \"precision et nombre d'iteration tous null\" \n",
    "\n",
    "        f,g, a, b, xi = self.f, self.g, self.a, self.b, self.x0\n",
    "        i = 1\n",
    "\n",
    "        if not fprime:\n",
    "            fprime = NewtonResolver.derive_1\n",
    "\n",
    "        xp = g(xi)\n",
    "        if precision:\n",
    "            while np.abs(xi - xp) > precision :\n",
    "                xi = xp\n",
    "                xp = g(xi)\n",
    "                i += 1\n",
    "                if i == maxiter:\n",
    "                    raise MaxtIterationExceded(\"Nombre d'iteration maximal atteinte, racine obtenue \", xp)\n",
    "            return Racine(\n",
    "                racine=xp,\n",
    "                precision=precision,\n",
    "                iteration=i\n",
    "            )\n",
    "        \n",
    "        if iteration:\n",
    "            for i in range(iteration):\n",
    "                xi = xp\n",
    "                xp = g(xi)\n",
    "                \n",
    "            precision = np.abs(xi-xp)\n",
    "            return Racine(\n",
    "                racine=xp,\n",
    "                precision=precision,\n",
    "                iteration=iteration\n",
    "            )\n"
   ]
  },
  {
   "cell_type": "code",
   "execution_count": 76,
   "metadata": {},
   "outputs": [
    {
     "name": "stdout",
     "output_type": "stream",
     "text": [
      "Le resolution est impossible sur cette intervale : g n'est pas contracte\n"
     ]
    }
   ],
   "source": [
    "try:\n",
    "    f =lambda x: (1/3)*x**3 - 2*x**2 + 3*x - (5/2)\n",
    "    g = lambda x : (-x**3)/9 + (2/3)*x**2 + 5/6\n",
    "    fixed_point = FixedPoint(f, g,  4, 5, x0=4.1) \n",
    "    entete = \"{:<35}|  {:<20}|  {:<20}|  {:<20}\".format(\"(1/3)*x**3 - 2*x**2 + 3*x - (5/2)\", \"racine calcule\", \"nombre d'iteration\",\"precision\" )\n",
    "\n",
    "    print(entete)\n",
    "    for precision in [10**-i for i in range(5, 10)]:\n",
    "        racine = fixed_point( precision=precision)\n",
    "        ligne= \"{:<35}|  {:<20}|  {:<20}|  {:<20}\".format(\"\", racine.racine, racine.iteration, racine.precision)\n",
    "        print(ligne)\n",
    "except RacineOutOfIntervale as e:\n",
    "    print(e.args[0])\n"
   ]
  },
  {
   "cell_type": "code",
   "execution_count": 77,
   "metadata": {},
   "outputs": [
    {
     "name": "stdout",
     "output_type": "stream",
     "text": [
      "Le resolution est impossible sur cette intervale : g n'est pas contracte\n"
     ]
    }
   ],
   "source": [
    "try:\n",
    "    f =lambda x: (1/3)*x**3 - 2*x**2 + 3*x - (5/2)\n",
    "    g = lambda x : ((1/6)*x**3 + (2/3)*x -5/4)**.5\n",
    "    fixed_point = FixedPoint(f, g,  4, 5, x0=4.1) \n",
    "    entete = \"{:<35}|  {:<20}|  {:<20}|  {:<20}\".format(\"(1/3)*x**3 - 2*x**2 + 3*x - (5/2)\", \"racine calcule\", \"nombre d'iteration\",\"precision\" )\n",
    "\n",
    "    print(entete)\n",
    "    for precision in [10**-i for i in range(5, 10)]:\n",
    "        racine = fixed_point( precision=precision)\n",
    "        ligne= \"{:<35}|  {:<20}|  {:<20}|  {:<20}\".format(\"\", racine.racine, racine.iteration, racine.precision)\n",
    "        print(ligne)\n",
    "except RacineOutOfIntervale as e:\n",
    "    print(e.args[0])\n",
    "\n"
   ]
  },
  {
   "cell_type": "code",
   "execution_count": 85,
   "metadata": {},
   "outputs": [
    {
     "name": "stdout",
     "output_type": "stream",
     "text": [
      "np.exp(-.1*x) - x   |  racine calcule      |  nombre d'iteration  |  precision           \n",
      "                    |  0.9127647211181605  |  5                   |  1e-05               \n",
      "                    |  0.9127653218554816  |  6                   |  1e-06               \n",
      "                    |  0.9127652670222639  |  7                   |  1e-07               \n",
      "                    |  0.9127652720272496  |  8                   |  1e-08               \n",
      "                    |  0.9127652715704119  |  9                   |  1e-09               \n"
     ]
    }
   ],
   "source": [
    "try:\n",
    "    f =lambda x: np.exp(-.1*x) - x\n",
    "    g = lambda x : np.exp(-.1*x)\n",
    "    fixed_point = FixedPoint(f, g,  1, 2) \n",
    "    entete = \"{:<20}|  {:<20}|  {:<20}|  {:<20}\".format(\"np.exp(-.1*x) - x\", \"racine calcule\", \"nombre d'iteration\",\"precision\" )\n",
    "\n",
    "    print(entete)\n",
    "    for precision in [10**-i for i in range(5, 10)]:\n",
    "        racine = fixed_point( precision=precision)\n",
    "        ligne= \"{:<20}|  {:<20}|  {:<20}|  {:<20}\".format(\"\", racine.racine, racine.iteration, racine.precision)\n",
    "        print(ligne)\n",
    "except RacineOutOfIntervale as e:\n",
    "    print(e.args[0])\n",
    "\n"
   ]
  }
 ],
 "metadata": {
  "kernelspec": {
   "display_name": "Python 3",
   "language": "python",
   "name": "python3"
  },
  "language_info": {
   "codemirror_mode": {
    "name": "ipython",
    "version": 3
   },
   "file_extension": ".py",
   "mimetype": "text/x-python",
   "name": "python",
   "nbconvert_exporter": "python",
   "pygments_lexer": "ipython3",
   "version": "3.10.12"
  }
 },
 "nbformat": 4,
 "nbformat_minor": 2
}

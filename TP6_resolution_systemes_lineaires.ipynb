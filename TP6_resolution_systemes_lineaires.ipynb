{
 "cells": [
  {
   "cell_type": "code",
   "execution_count": 1,
   "metadata": {},
   "outputs": [],
   "source": [
    "import numpy as np"
   ]
  },
  {
   "attachments": {},
   "cell_type": "markdown",
   "metadata": {},
   "source": [
    "# 1- Résolution de Ax=b avec A une matrice carrée n×n et b∈Rn"
   ]
  },
  {
   "cell_type": "code",
   "execution_count": 2,
   "metadata": {},
   "outputs": [
    {
     "name": "stdout",
     "output_type": "stream",
     "text": [
      "[[9 4 2 2]\n",
      " [9 7 5 3]\n",
      " [9 7 8 1]\n",
      " [8 2 8 4]] [8 1 8 8]\n"
     ]
    }
   ],
   "source": [
    "A = np.random.randint(1, 10, (4, 4))\n",
    "b = np.random.randint(1, 10, (4, ))\n",
    "\n",
    "\n",
    "print(A, b)\n"
   ]
  },
  {
   "attachments": {},
   "cell_type": "markdown",
   "metadata": {},
   "source": [
    "## 1 - Résolution d'un système linéaire triangulaire"
   ]
  },
  {
   "cell_type": "markdown",
   "metadata": {},
   "source": [
    "### Triangulaire Superieur"
   ]
  },
  {
   "cell_type": "code",
   "execution_count": 3,
   "metadata": {},
   "outputs": [
    {
     "name": "stdout",
     "output_type": "stream",
     "text": [
      "[[8 3 3 9]\n",
      " [0 5 9 9]\n",
      " [0 0 8 5]\n",
      " [0 0 0 7]] [8 2 9 1]\n"
     ]
    },
    {
     "data": {
      "text/plain": [
       "array([ 1.09642857, -1.72142857,  1.03571429,  0.14285714])"
      ]
     },
     "execution_count": 3,
     "metadata": {},
     "output_type": "execute_result"
    }
   ],
   "source": [
    "def solve_upper(A, b):\n",
    "    assert A.shape[0] == b.shape[0]\n",
    "    n = b.shape[0]\n",
    "    x= np.zeros((n,))\n",
    "    x[n-1] = b[n-1]/A[n-1, n-1]\n",
    "    for i in range(n-2, -1, -1):\n",
    "        x[i] = (b[i] - np.sum(A[i, i+1:]*x[i+1:]))/A[i, i]\n",
    "    return x\n",
    "\n",
    "Ai = np.random.randint(1, 10, (4, 4))\n",
    "bi = np.random.randint(1, 10, (4, ))\n",
    "\n",
    "mask_l = np.fromfunction(lambda i, j : i>j, (4,4))\n",
    "Ai[mask_l] = 0\n",
    "print(Ai, bi)\n",
    "solve_upper(Ai, bi)"
   ]
  },
  {
   "cell_type": "code",
   "execution_count": 4,
   "metadata": {},
   "outputs": [
    {
     "data": {
      "text/plain": [
       "0.5714285714285714"
      ]
     },
     "execution_count": 4,
     "metadata": {},
     "output_type": "execute_result"
    }
   ],
   "source": [
    "4/7"
   ]
  },
  {
   "cell_type": "markdown",
   "metadata": {},
   "source": [
    "### Triangulaire Inferieur"
   ]
  },
  {
   "cell_type": "code",
   "execution_count": 5,
   "metadata": {},
   "outputs": [
    {
     "name": "stdout",
     "output_type": "stream",
     "text": [
      "[[1 0 0 0]\n",
      " [1 9 0 0]\n",
      " [4 4 5 0]\n",
      " [8 9 2 4]] [9 4 4 5]\n"
     ]
    },
    {
     "data": {
      "text/plain": [
       "array([  9.        ,  -0.55555556,  -5.95555556, -12.52222222])"
      ]
     },
     "execution_count": 5,
     "metadata": {},
     "output_type": "execute_result"
    }
   ],
   "source": [
    "def solve_lower(A, b):\n",
    "    assert A.shape[0] == b.shape[0]\n",
    "    n = b.shape[0]\n",
    "    x= np.zeros((n,))\n",
    "    x[0] = b[0]/A[0, 0]\n",
    "    for i in range(1, n):\n",
    "        x[i] = (b[i] - np.sum(A[i, :i]*x[:i]))/A[i, i]\n",
    "    return x\n",
    "\n",
    "A1 = np.random.randint(1, 10, (4, 4))\n",
    "b1 = np.random.randint(1, 10, (4, ))\n",
    "mask_l = np.fromfunction(lambda i, j : i<j, (4,4))\n",
    "A1[mask_l] = 0\n",
    "print(A1, b1)\n",
    "solve_lower(A1, b1)"
   ]
  },
  {
   "cell_type": "markdown",
   "metadata": {},
   "source": [
    "## 2- Methode de Gauss"
   ]
  },
  {
   "cell_type": "markdown",
   "metadata": {},
   "source": [
    "### Matrice Elementaire"
   ]
  },
  {
   "cell_type": "code",
   "execution_count": 6,
   "metadata": {},
   "outputs": [],
   "source": [
    "def T(i, j, n):\n",
    "    assert i < n and j < n\n",
    "    A = np.eye(n)\n",
    "    # i, j = i-1, j-1\n",
    "    temp = A[i].copy()\n",
    "    A[i] = A[j]\n",
    "    A[j] = temp\n",
    "    return A\n",
    "\n",
    "def D(alpha, i,n):\n",
    "    assert i < n\n",
    "    # i = i-1\n",
    "    A = np.eye(n)\n",
    "    A[i, i] = alpha\n",
    "    return A\n",
    "\n",
    "def L(alpha, i, j, n):\n",
    "    assert i < n and j < n\n",
    "    A = np.eye(n)\n",
    "    # i, j = i-1, j-1\n",
    "    A [i, j] = alpha\n",
    "    return (A)\n",
    "\n",
    "def Mr(M, r , n=None, inv=False):\n",
    "    if n is None:\n",
    "        n = M.shape[0]\n",
    "    assert 0 <= r < n , print(f\"r : {r}, n : {n}\")\n",
    "    lambda_list = M[r+1:, r]\n",
    "    A = np.eye(n)\n",
    "    Ap = np.eye(n)\n",
    "    for row in range(r+1, n):\n",
    "        A = A@L(-lambda_list[row-r-1]/M[r, r], row, r, n)\n",
    "        Ap = Ap@L(lambda_list[row-r-1]/M[r, r], row, r, n)\n",
    "\n",
    "    return A, Ap\n",
    "\n",
    "def Mr_up(M, r , n):\n",
    "    assert r < n , print(f\"r : {r}, n : {n}\")\n",
    "    lambda_list = M[:r, r]\n",
    "    A = np.eye(n)\n",
    "    Ap = np.eye(n)\n",
    "    for row in range(r-1, -1, -1):\n",
    "        A = A@L(-lambda_list[row]/M[r, r], row, r, n)\n",
    "        Ap = Ap@L(lambda_list[row]/M[r, r], row, r, n)\n",
    "    return A, Ap"
   ]
  },
  {
   "cell_type": "code",
   "execution_count": 7,
   "metadata": {},
   "outputs": [
    {
     "name": "stdout",
     "output_type": "stream",
     "text": [
      "solution trouvé : [ 2.24922118 -2.03115265  0.57632399 -2.63551402]\n",
      "verification :  [8. 1. 8. 8.]\n"
     ]
    }
   ],
   "source": [
    "def gauss(A, b):\n",
    "    \n",
    "    shape = A.shape\n",
    "    n= shape[0]\n",
    "    assert shape[0] == shape[1]\n",
    "    assert shape[0] == b.size\n",
    "    Ag = np.concatenate([A, b.reshape((n, 1))],axis=1)\n",
    "    for i in range(0, shape[0]-1):\n",
    "        j = np.argmax(np.abs(Ag[i+1:, i]))\n",
    "        j += i + 1\n",
    "        Ag = T(i, j, n)@Ag\n",
    "        Ag = Mr(Ag,i, n)[0]@Ag\n",
    "    return Ag[:, :n], Ag[:, n]\n",
    "\n",
    "Ag, bg = gauss(A, b)\n",
    "\n",
    "x = solve_upper(Ag, bg)\n",
    "print(\"solution trouvé :\", x)\n",
    "print(\"verification : \", A@x)"
   ]
  },
  {
   "cell_type": "markdown",
   "metadata": {},
   "source": [
    "## 3- Résolution par décomposition LU"
   ]
  },
  {
   "cell_type": "markdown",
   "metadata": {},
   "source": [
    "### 1- Décomposition LU de la matrice A"
   ]
  },
  {
   "cell_type": "code",
   "execution_count": 8,
   "metadata": {},
   "outputs": [
    {
     "name": "stdout",
     "output_type": "stream",
     "text": [
      "solution trouvé : [ 2.24922118 -2.03115265  0.57632399 -2.63551402]\n",
      "verification :  [8. 1. 8. 8.]\n"
     ]
    }
   ],
   "source": [
    "def Lu(A):\n",
    "    n = A.shape[0]\n",
    "    \n",
    "    Upp = A.copy()\n",
    "    Low = np.eye(n)\n",
    "\n",
    "    for i in range(n-1):\n",
    "        mr, mrinv = Mr(Upp, i, n)\n",
    "        Upp = mr@Upp\n",
    "        Low = Low@mrinv\n",
    "    \n",
    "    return Low, Upp\n",
    "\n",
    "Low, Upp = Lu(A)\n",
    "\n",
    "y = solve_lower(Low, b)\n",
    "x = solve_upper(Upp, y)\n",
    "print(\"solution trouvé :\", x)\n",
    "print(\"verification : \", A@x)"
   ]
  },
  {
   "cell_type": "code",
   "execution_count": 9,
   "metadata": {},
   "outputs": [
    {
     "name": "stdout",
     "output_type": "stream",
     "text": [
      "[1. 2. 3.]\n",
      "[1. 2. 3.]\n"
     ]
    },
    {
     "data": {
      "text/plain": [
       "array([2., 7., 4.])"
      ]
     },
     "execution_count": 9,
     "metadata": {},
     "output_type": "execute_result"
    }
   ],
   "source": [
    "A1 = np.array([[3, -2, 1], [2, 1, 1], [4, -3, 2]])\n",
    "b1 = np.array([2, 7, 4])\n",
    "ag, bg = gauss(A1, b1)\n",
    "xg = solve_upper(ag, bg)\n",
    "l, u = Lu(A1)\n",
    "y = solve_lower(l, b1)\n",
    "xlu = solve_upper(u, y)\n",
    "print(xlu)\n",
    "print(xg)\n",
    "A1@xlu"
   ]
  },
  {
   "cell_type": "markdown",
   "metadata": {},
   "source": [
    "## 4- Methodes iteratifs"
   ]
  },
  {
   "cell_type": "markdown",
   "metadata": {},
   "source": [
    "### 1- Méthode de Jabobi"
   ]
  },
  {
   "cell_type": "code",
   "execution_count": 10,
   "metadata": {},
   "outputs": [
    {
     "name": "stdout",
     "output_type": "stream",
     "text": [
      "[0. 0. 0. 0.]\n",
      "[0.88888889 0.14285714 1.         2.        ]\n",
      "[ 0.15873016 -2.57142857 -0.375      -1.84920635]\n",
      "[2.52601411 0.99914966 3.30257937 3.71825397]\n",
      "[ -1.11536281  -7.05739796  -3.18080357 -10.15676178]\n"
     ]
    },
    {
     "data": {
      "text/plain": [
       "array([ 6.98941362,  8.2017955 ,  9.6996016 , 14.12103175])"
      ]
     },
     "execution_count": 10,
     "metadata": {},
     "output_type": "execute_result"
    }
   ],
   "source": [
    "def jacobi(A, b, x0=None, maxiter=5, precision=10**-3):\n",
    "    iters = 0\n",
    "    xk = x0.copy()\n",
    "    n = A.shape[0]\n",
    "    print(x0)\n",
    "\n",
    "\n",
    "    while np.linalg.norm(b-A@xk) > precision:\n",
    "    #for i in range(5):\n",
    "        xkp=xk.copy()\n",
    "        for i in range(n): \n",
    "            xkm =xk.copy()\n",
    "            xkm[i] = 0\n",
    "            xkp[i] = (b[i] - A[i, :]@xkm)/A[i, i]\n",
    "        xk = xkp\n",
    "\n",
    "        iters += 1\n",
    "        if iters == maxiter:\n",
    "            break\n",
    "        \n",
    "        print(xk)\n",
    "    return xk\n",
    "\n",
    "jacobi(A, b, np.zeros((4,)))"
   ]
  },
  {
   "cell_type": "code",
   "execution_count": 11,
   "metadata": {},
   "outputs": [
    {
     "name": "stdout",
     "output_type": "stream",
     "text": [
      "[0. 0. 0. 0.]\n",
      "[0.88888889 0.14285714 1.         2.        ]\n",
      "[ 0.15873016 -2.57142857 -0.375      -1.84920635]\n",
      "[2.52601411 0.99914966 3.30257937 3.71825397]\n",
      "[ -1.11536281  -7.05739796  -3.18080357 -10.15676178]\n"
     ]
    },
    {
     "data": {
      "text/plain": [
       "array([ 6.98941362,  8.2017955 ,  9.6996016 , 14.12103175])"
      ]
     },
     "execution_count": 11,
     "metadata": {},
     "output_type": "execute_result"
    }
   ],
   "source": [
    "# methode vectorisée\n",
    "def jacobi(A, b, x0=None, maxiter=5, precision=10**-3):\n",
    "    i = 0\n",
    "    xk = x0.copy()\n",
    "    print(x0)\n",
    "    while np.linalg.norm(b-A@xk) > precision:\n",
    "        xkm = np.concatenate([[xk] for _ in range(4)], axis=0)*(1-np.eye(4))\n",
    "        xkp = b - np.sum(A *xkm,axis= 1)\n",
    "        xkp = xkp/np.diag(A)\n",
    "        xk = xkp\n",
    "\n",
    "        i+= 1\n",
    "        if i == maxiter:\n",
    "            break\n",
    "        print(xk)\n",
    "    \n",
    "    return xk\n",
    "\n",
    "jacobi(A, b, np.zeros((4,)))"
   ]
  },
  {
   "cell_type": "markdown",
   "metadata": {},
   "source": [
    "### 2- Méthode de Gauss-Seidel"
   ]
  },
  {
   "cell_type": "code",
   "execution_count": 12,
   "metadata": {},
   "outputs": [
    {
     "name": "stdout",
     "output_type": "stream",
     "text": [
      "[0. 0. 0. 0.]\n",
      "[ 0.88888889 -1.          0.875      -1.02777778]\n",
      "[ 1.36728395 -1.79960317  1.16493056 -2.16462743]\n",
      "[ 1.91086738 -2.21836813  1.06192474 -2.83640018]\n",
      "[ 2.26915816 -2.31754951  0.82960292 -3.03874739]\n",
      "[ 2.40983189 -2.24575134  0.63381498 -2.96441806]\n"
     ]
    },
    {
     "data": {
      "text/plain": [
       "array([ 2.40983189, -2.24575134,  0.63381498, -2.96441806])"
      ]
     },
     "execution_count": 12,
     "metadata": {},
     "output_type": "execute_result"
    }
   ],
   "source": [
    "def gauss_seidel(A, b, x0=None, maxiter=5, precision=10**-3):\n",
    "    iters = 0\n",
    "    xk = x0.copy()\n",
    "    n = A.shape[0]\n",
    "    print(x0)\n",
    "    while np.linalg.norm(b-A@xk) > precision:\n",
    "    #for i in range(5):\n",
    "        xkp=xk.copy()\n",
    "        for i in range(n): \n",
    "            xkm =xk.copy()\n",
    "            xkm[i] = 0\n",
    "            xkm[:i] = xkp[:i]\n",
    "            # xkm[i+1:] = xk[i+1:]\n",
    "            xkp[i] = (b[i] - A[i, :]@xkm)/A[i, i]\n",
    "        xk = xkp\n",
    "\n",
    "        print(xk)\n",
    "        iters += 1\n",
    "        if iters == maxiter:\n",
    "            break\n",
    "        \n",
    "        \n",
    "    return xk\n",
    "\n",
    "gauss_seidel(A, b, np.zeros((4,)), )"
   ]
  },
  {
   "cell_type": "markdown",
   "metadata": {},
   "source": [
    "### 3- Méthode de la relaxation"
   ]
  },
  {
   "cell_type": "code",
   "execution_count": 13,
   "metadata": {},
   "outputs": [
    {
     "name": "stdout",
     "output_type": "stream",
     "text": [
      "[0. 0. 0. 0.]\n",
      "[ 0.2962963  -0.07936508  0.24537037  0.31878307]\n",
      "[ 0.46379581 -0.30802259  0.39954745  0.35496364]\n",
      "[ 0.59523677 -0.55867025  0.52463985  0.24983639]\n",
      "[ 0.71851816 -0.79336931  0.63463845  0.06334807]\n",
      "[ 0.84114189 -1.00193732  0.73058964 -0.17193276]\n"
     ]
    },
    {
     "data": {
      "text/plain": [
       "array([ 0.84114189, -1.00193732,  0.73058964, -0.17193276])"
      ]
     },
     "execution_count": 13,
     "metadata": {},
     "output_type": "execute_result"
    }
   ],
   "source": [
    "def relaxation(A, b, x0=None, alpha=3**(-1), maxiter=5, precision=10**-3):\n",
    "    assert alpha < 1\n",
    "    iters = 0\n",
    "    xk = x0.copy()\n",
    "    n = A.shape[0]\n",
    "    print(x0)\n",
    "    while np.linalg.norm(b-A@xk) > precision:\n",
    "    #for i in range(5):\n",
    "        xkp=xk.copy()\n",
    "        for i in range(n): \n",
    "            xkm =xk.copy()\n",
    "            xkm[i] = 0\n",
    "            xkm[:i] = xkp[:i]\n",
    "            # xkm[i+1:] = xk[i+1:]\n",
    "            xkp[i] = alpha* (b[i] - A[i, :]@xkm)/A[i, i] + (1-alpha)*xk[i]\n",
    "        xk = xkp\n",
    "\n",
    "        print(xk)\n",
    "        iters += 1\n",
    "        if iters == maxiter:\n",
    "            break\n",
    "        \n",
    "        \n",
    "    return xk\n",
    "\n",
    "relaxation(A, b, np.zeros((4,)), maxiter=5)"
   ]
  },
  {
   "cell_type": "markdown",
   "metadata": {},
   "source": [
    "# 2- Implantez la méthode du calcul de l'inverse d'une matrice carrée 𝐴 par \"double triangulation\", puis division des lignes par les éléments diagonaux."
   ]
  },
  {
   "cell_type": "code",
   "execution_count": 69,
   "metadata": {},
   "outputs": [
    {
     "data": {
      "text/plain": [
       "array([[ 0.24610592, -0.19314642,  0.04984424,  0.00934579],\n",
       "       [-0.15576324,  0.2741433 , -0.00623053, -0.12616822],\n",
       "       [-0.11838006, -0.07165109,  0.1152648 ,  0.08411215],\n",
       "       [-0.17757009,  0.39252336, -0.3271028 ,  0.12616822]])"
      ]
     },
     "execution_count": 69,
     "metadata": {},
     "output_type": "execute_result"
    }
   ],
   "source": [
    "def get_inv(A):\n",
    "    n = A.shape[0]\n",
    "    Ag = A.copy()\n",
    "    M = np.eye(n)\n",
    "    for i in range(0, n-1):\n",
    "        M_down = Mr(Ag,i, n)[0]\n",
    "        Ag = M_down@Ag \n",
    "        M = M_down@M\n",
    "\n",
    "\n",
    "    for i in range(n-1, -1, -1):\n",
    "        M_up = Mr_up(Ag,i, n)[0]\n",
    "        Ag = M_up@Ag \n",
    "        M = M_up@M\n",
    "\n",
    "    return np.linalg.inv(Ag)@M\n",
    "\n",
    "def apply_zeros_mask(A):\n",
    "    zeros_mask = lambda M: 10**(-14) < M < 10**(-14)\n",
    "    A[zeros_mask(A)] = 0\n",
    "    return A\n",
    "\n",
    "get_inv(A)\n",
    "\n",
    "\n"
   ]
  },
  {
   "cell_type": "code",
   "execution_count": 66,
   "metadata": {},
   "outputs": [
    {
     "data": {
      "text/plain": [
       "array([[ 0.24610592, -0.19314642,  0.04984424,  0.00934579],\n",
       "       [-0.15576324,  0.2741433 , -0.00623053, -0.12616822],\n",
       "       [-0.11838006, -0.07165109,  0.1152648 ,  0.08411215],\n",
       "       [-0.17757009,  0.39252336, -0.3271028 ,  0.12616822]])"
      ]
     },
     "execution_count": 66,
     "metadata": {},
     "output_type": "execute_result"
    }
   ],
   "source": [
    "np.linalg.inv(A)"
   ]
  }
 ],
 "metadata": {
  "kernelspec": {
   "display_name": "Python 3 (ipykernel)",
   "language": "python",
   "name": "python3"
  },
  "language_info": {
   "codemirror_mode": {
    "name": "ipython",
    "version": 3
   },
   "file_extension": ".py",
   "mimetype": "text/x-python",
   "name": "python",
   "nbconvert_exporter": "python",
   "pygments_lexer": "ipython3",
   "version": "3.9.12"
  }
 },
 "nbformat": 4,
 "nbformat_minor": 4
}

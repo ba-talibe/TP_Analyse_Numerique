{
 "cells": [
  {
   "cell_type": "markdown",
   "metadata": {
    "colab_type": "text",
    "id": "OUg5LE7nNZxG"
   },
   "source": [
    "# TP QP par un algorithme de points intérieurs"
   ]
  },
  {
   "cell_type": "code",
   "execution_count": 106,
   "metadata": {
    "colab": {
     "autoexec": {
      "startup": false,
      "wait_interval": 0
     }
    },
    "colab_type": "code",
    "id": "GKMEhNKGEIcM"
   },
   "outputs": [],
   "source": [
    "\n",
    "import numpy as np\n",
    "import matplotlib.pyplot as plt\n",
    "from sklearn.datasets import make_moons\n",
    "from sklearn.svm import SVC\n"
   ]
  },
  {
   "cell_type": "code",
   "execution_count": 107,
   "metadata": {
    "colab": {
     "autoexec": {
      "startup": false,
      "wait_interval": 0
     }
    },
    "colab_type": "code",
    "id": "rUDDo91yEOMq"
   },
   "outputs": [
    {
     "data": {
      "image/png": "[encoded data removed]",
      "text/plain": [
       "<Figure size 640x480 with 1 Axes>"
      ]
     },
     "metadata": {},
     "output_type": "display_data"
    }
   ],
   "source": [
    "n_train = 100\n",
    "X,y = make_moons(n_samples=100, shuffle=True, noise=None, random_state=None)\n",
    "y = np.where( y > .5, y, -1)\n",
    "# afficher les données d'apprentissage sur un plot avec une couleur par classe\n",
    "# inserer votre code ici\n",
    "\n",
    "classes = np.unique(y)\n",
    "for classe in classes:\n",
    "    plt.scatter(X[y==classe,0], X[y==classe,1], label=f'classe {classe}')\n",
    "\n",
    "plt.legend()\n",
    "plt.show()"
   ]
  },
  {
   "cell_type": "code",
   "execution_count": 108,
   "metadata": {
    "colab": {
     "autoexec": {
      "startup": false,
      "wait_interval": 0
     }
    },
    "colab_type": "code",
    "id": "FzOxrzpdEXrG"
   },
   "outputs": [
    {
     "name": "stdout",
     "output_type": "stream",
     "text": [
      "cout opt -16.618676387290105\n"
     ]
    }
   ],
   "source": [
    "#%% SVM dual \n",
    "C =1000\n",
    "N = X.shape[0]\n",
    "\n",
    "from sklearn.metrics.pairwise import rbf_kernel\n",
    "gamma = 1\n",
    "N = X.shape[0]\n",
    "K = rbf_kernel(X,gamma = gamma)\n",
    "yb = y.reshape(N,1)\n",
    "P = K*(yb@yb.T)\n",
    "q = -np.ones(N)\n",
    "\n",
    "clf = SVC(C=C,kernel='precomputed')\n",
    "clf.fit(K, y)\n",
    "indice_SV = clf.support_\n",
    "alpha_sk = clf.dual_coef_[0]\n",
    "b_sk = clf.intercept_\n",
    "\n",
    "# construire le vecteur solution alpha_0\n",
    "\n",
    "# %% \n",
    "alpha_o = np.zeros(N)\n",
    "alpha_o[indice_SV] = np.abs(alpha_sk)\n",
    "print('cout opt',0.5*alpha_o.T@P@alpha_o + q.T@alpha_o)\n",
    "\n",
    "# calculer la valeur objective optimale du problème QP obtenu par ce solveur SVM\n",
    "# et afficher le résultat\n",
    "\n",
    "\n"
   ]
  },
  {
   "cell_type": "markdown",
   "metadata": {
    "colab_type": "text",
    "id": "P3YMPOHwHzXk"
   },
   "source": [
    "On s'interesse au problème\n",
    "$$\n",
    "\\min_{\\alpha} \\frac{1}{2} \\alpha^\\top P \\alpha + q^\\top \\alpha  \\quad \\text{ } \\quad \\text{sc } \\quad \\alpha^\\top y = 0  \\text{ et } \\alpha \\geq 0\n",
    "$$"
   ]
  },
  {
   "cell_type": "code",
   "execution_count": 109,
   "metadata": {
    "colab": {
     "autoexec": {
      "startup": false,
      "wait_interval": 0
     }
    },
    "colab_type": "code",
    "id": "fU9whk6tF_oT"
   },
   "outputs": [
    {
     "name": "stdout",
     "output_type": "stream",
     "text": [
      "cout init -0.5035155041054749\n"
     ]
    }
   ],
   "source": [
    "# Algorithme de point intérieur \n",
    "\n",
    "# construction du problème et des matrices associés\n",
    "\n",
    "q = -np.ones(N)\n",
    "b = np.array([0.0])\n",
    "A = y.reshape(1,N)\n",
    "\n",
    "# initialization du point intérieur\n",
    "\n",
    "alpha = np.random.rand(N)*1e-2\n",
    "nb_constraint = A.shape[0]\n",
    "\n",
    "ll = np.ones((nb_constraint,1)) # multiplicateur de Lagrange\n",
    "s = ((P@alpha   + q).reshape(N,1) - A.T@ ll).reshape(N)\n",
    "s = np.where(s < 0.000001, 1e-16, s)  # on garde que les parties positives pour que s soit faisable\n",
    "\n",
    "print('cout init',0.5*alpha.T@P@alpha + q.T@alpha)\n",
    "\n",
    "\n",
    "Id = np.eye(N)\n"
   ]
  },
  {
   "cell_type": "code",
   "execution_count": 110,
   "metadata": {},
   "outputs": [
    {
     "name": "stdout",
     "output_type": "stream",
     "text": [
      "(100, 100) (100, 1) (100, 100)\n",
      "(1, 100) (1,) (1, 100)\n",
      "(100, 100) (100, 1) (100, 100)\n"
     ]
    }
   ],
   "source": [
    "print(P.shape, A.T.shape, Id.shape)\n",
    "print(A.shape, np.array([0]).shape, np.zeros((1, N)).shape)\n",
    "print(np.diag(s).shape, np.zeros((N, 1)).shape, np.diag(alpha_o).shape)"
   ]
  },
  {
   "cell_type": "code",
   "execution_count": 111,
   "metadata": {
    "colab": {
     "autoexec": {
      "startup": false,
      "wait_interval": 0
     }
    },
    "colab_type": "code",
    "id": "HP9GwSXPL-11"
   },
   "outputs": [
    {
     "name": "stdout",
     "output_type": "stream",
     "text": [
      "cout -0.5035176474347483 step 7.450580596923828e-09\n",
      "cout -0.503574718857704 step 2.384185791015625e-07\n",
      "cout -0.5036099337576835 step 2.384185791015625e-07\n",
      "cout -0.5038495596364496 step 1.9073486328125e-06\n",
      "cout -0.5043797623342168 step 7.62939453125e-06\n",
      "cout -0.5053511493575472 step 1.52587890625e-05\n",
      "cout -0.5062591455373385 step 1.52587890625e-05\n",
      "cout -0.5079016421520051 step 3.0517578125e-05\n",
      "cout -0.5091092112045901 step 3.0517578125e-05\n",
      "cout -0.5123565062318671 step 0.0001220703125\n",
      "cout -0.5327888817182939 step 0.0009765625\n",
      "cout -0.5559552971380126 step 0.0009765625\n",
      "cout -0.578146505390232 step 0.0009765625\n",
      "cout -0.5889276127996936 step 0.00048828125\n",
      "cout -0.6087726001945731 step 0.0009765625\n",
      "cout -0.6286005169811554 step 0.0009765625\n",
      "cout -0.7073989721401505 step 0.00390625\n",
      "cout -0.8665472989189873 step 0.0078125\n",
      "cout -1.1954421297234525 step 0.015625\n",
      "cout -1.3733611037167432 step 0.0078125\n",
      "cout -1.7408186191564372 step 0.015625\n",
      "cout -2.1304001992286024 step 0.015625\n",
      "cout -2.3330214685257906 step 0.0078125\n",
      "cout -2.7397060721130813 step 0.015625\n",
      "cout -2.944246910216897 step 0.0078125\n",
      "cout -3.348708926405184 step 0.015625\n",
      "cout -3.746998766638587 step 0.015625\n",
      "cout -4.136907596786074 step 0.015625\n",
      "cout -4.32737861580142 step 0.0078125\n",
      "cout -5.069427593288451 step 0.03125\n",
      "cout -5.4227852289510095 step 0.015625\n",
      "cout -6.10402237449965 step 0.03125\n",
      "cout -7.367020961293532 step 0.0625\n",
      "cout -8.481875560581381 step 0.0625\n",
      "cout -8.980827053561496 step 0.03125\n",
      "cout -9.902999429138564 step 0.0625\n",
      "cout -11.473708842941356 step 0.125\n",
      "cout -12.677748072255588 step 0.125\n",
      "cout -13.600065614156897 step 0.125\n",
      "cout -14.918716830950245 step 0.25\n",
      "cout -16.191298954470938 step 0.5\n",
      "cout -16.61740905963662 step 1.0\n",
      "cout -16.618084306184443 step 1.0\n",
      "cout -16.618440065627958 step 1.0\n",
      "cout -16.61861827865252 step 1.0\n",
      "cout -16.618707475065 step 1.0\n",
      "cout -16.618752095807004 step 1.0\n",
      "cout -16.61877441186405 step 1.0\n",
      "cout -16.61878557133409 step 1.0\n",
      "cout -16.618791151439222 step 1.0\n",
      "cout -16.618793941589146 step 1.0\n",
      "cout -16.618795336690876 step 1.0\n",
      "cout -16.61879603424964 step 1.0\n",
      "cout -16.61879638303159 step 1.0\n",
      "cout -16.618796557423508 step 1.0\n",
      "cout -16.618796644619863 step 1.0\n",
      "cout -16.618796688218215 step 1.0\n",
      "cout -16.61879671001749 step 1.0\n",
      "cout -16.618796720917132 step 1.0\n",
      "cout -16.618796726366977 step 1.0\n",
      "cout -16.618796729091923 step 1.0\n",
      "cout -16.618796730454406 step 1.0\n",
      "cout -16.618796731135642 step 1.0\n",
      "cout -16.61879673147624 step 1.0\n",
      "cout -16.618796731646558 step 1.0\n",
      "cout -16.61879673173171 step 1.0\n",
      "cout -16.618796731774303 step 1.0\n",
      "cout -16.618796731795587 step 1.0\n",
      "cout -16.61879673180624 step 1.0\n",
      "cout -16.61879673181156 step 1.0\n",
      "cout -16.618796731814225 step 1.0\n",
      "cout -16.61879673181554 step 1.0\n",
      "cout -16.618796731816204 step 1.0\n",
      "cout -16.61879673181654 step 1.0\n",
      "cout -16.61879673181671 step 1.0\n",
      "cout -16.618796731816797 step 1.0\n",
      "cout -16.618796731816833 step 1.0\n",
      "cout -16.618796731816843 step 1.0\n",
      "cout -16.618796731816875 step 1.0\n",
      "cout -16.618796731816857 step 1.0\n",
      "cout -16.61879673181688 step 1.0\n",
      "cout -16.61879673181689 step 1.0\n",
      "cout -16.61879673181687 step 1.0\n",
      "cout -16.61879673181687 step 1.0\n",
      "cout -16.618796731816882 step 1.0\n",
      "cout -16.61879673181688 step 1.0\n",
      "cout -16.61879673181688 step 1.0\n",
      "cout -16.61879673181687 step 1.0\n",
      "cout -16.61879673181688 step 1.0\n",
      "cout -16.618796731816875 step 1.0\n",
      "cout -16.61879673181687 step 1.0\n",
      "cout -16.61879673181688 step 1.0\n",
      "cout -16.61879673181688 step 0.5\n",
      "cout -16.61879673181688 step 0.5\n",
      "cout -16.61879673181688 step 0.5\n",
      "cout -16.618796731816875 step 0.25\n",
      "cout -16.61879673181688 step 0.125\n",
      "cout -16.618796731816875 step 0.5\n",
      "cout -16.61879673181688 step 0.5\n",
      "cout -16.618796731816875 step 0.25\n",
      "cout final -16.618796731816875\n"
     ]
    }
   ],
   "source": [
    "sigma = 0.5\n",
    "x = np.copy(alpha)\n",
    "\n",
    "\n",
    "for i in range(100):\n",
    "    tau = x@s/N\n",
    "    Sk = np.diag(s)\n",
    "    Xk = np.diag(x)\n",
    "    cout = 0.5*x.T@P@x + q.T@x\n",
    "    # construire les lignes de la Jacobienne\n",
    "    # inserer votre code ici\n",
    "    J1 = np.hstack((P, -A.T, -np.eye(N)))\n",
    "    J2 = np.hstack((A, np.array([[0]]), np.zeros((1, N))))\n",
    "    J3 = np.hstack((np.diag(s), np.zeros((N, 1)), np.diag(x)))\n",
    "    \n",
    "    \n",
    "    # construire la Jacobienne\n",
    "    J = np.vstack((J1,J2,J3))  \n",
    "\n",
    "    \n",
    "    # construire les lignes du second membre\n",
    "    b1 = (P@x + q - (A.T@ll).flatten() - s).reshape((N, 1))\n",
    "    b2 = (A@x - b).reshape((1, 1))\n",
    "    b3 = (Xk@s - sigma*tau*np.ones(N)).reshape((N, 1))\n",
    "\n",
    "    \n",
    "    second_membre = np.vstack((b1,b2,b3))\n",
    "    \n",
    "    # résoudre le problème\n",
    "    J = J + 1e-6*np.eye(J.shape[0])\n",
    "    S = np.linalg.solve(J, -second_membre)\n",
    "    \n",
    "    # extraire les directions pour chaque partie\n",
    "    \n",
    "    dx = S[:N].flatten()\n",
    "    dy = S[N:N+nb_constraint].flatten()\n",
    "    ds = S[N+nb_constraint:].flatten()\n",
    "\n",
    "    # print(dx)\n",
    "    # définir le pas optimal \n",
    "    step = 1.\n",
    "    while np.any(x + step*dx < 0) or np.any(s + step*ds < 0):\n",
    "        step *= 0.5\n",
    "    # inserer votre code ici\n",
    "    \n",
    "    \n",
    "    # mise à jour\n",
    "    x = x + step*dx\n",
    "    ll = ll + step*dy\n",
    "    s = s + step*ds\n",
    "    print('cout',0.5*x.T@P@x + q.T@x, 'step',step)\n",
    "\n",
    "print('cout final',0.5*x.T@P@x + q.T@x)"
   ]
  },
  {
   "cell_type": "markdown",
   "metadata": {
    "colab_type": "text",
    "id": "AcNYRh7YNH7A"
   },
   "source": [
    "\n",
    "\n",
    "1.   Montrer que le cout décroit correctement\n",
    "2.   Comparer la solution alpha avec celui obtenu par le solveur SVM\n",
    "3.   Améliorer la boucle pour avoir une condition de sortie plus pertinente\n",
    "\n",
    "\n",
    "\n"
   ]
  },
  {
   "cell_type": "markdown",
   "metadata": {
    "colab_type": "text",
    "id": "DSijfWbeN2tA"
   },
   "source": [
    "Modifier les matrices proposées en entrée de cette algorithme afin de résoudre le problème complet\n",
    "$$\n",
    "\\min_{\\alpha} \\frac{1}{2} \\alpha^\\top P \\alpha + q^\\top \\alpha  \\quad \\text{ } \\quad \\text{sc } \\quad \\alpha^\\top y = 0  \\text{ et } C \\geq \\alpha \\geq 0\n",
    "$$"
   ]
  },
  {
   "cell_type": "code",
   "execution_count": null,
   "metadata": {
    "colab": {
     "autoexec": {
      "startup": false,
      "wait_interval": 0
     }
    },
    "colab_type": "code",
    "id": "tONaKzGGP9Pf"
   },
   "outputs": [],
   "source": []
  }
 ],
 "metadata": {
  "colab": {
   "collapsed_sections": [],
   "default_view": {},
   "name": "TP_QP_points_intérieurs.ipynb",
   "provenance": [],
   "version": "0.3.2",
   "views": {}
  },
  "kernelspec": {
   "display_name": "base",
   "language": "python",
   "name": "python3"
  },
  "language_info": {
   "codemirror_mode": {
    "name": "ipython",
    "version": 3
   },
   "file_extension": ".py",
   "mimetype": "text/x-python",
   "name": "python",
   "nbconvert_exporter": "python",
   "pygments_lexer": "ipython3",
   "version": "3.12.2"
  }
 },
 "nbformat": 4,
 "nbformat_minor": 4
}

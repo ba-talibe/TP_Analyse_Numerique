{
 "cells": [
  {
   "cell_type": "code",
   "execution_count": 2,
   "metadata": {},
   "outputs": [],
   "source": [
    "import numpy as np"
   ]
  },
  {
   "attachments": {},
   "cell_type": "markdown",
   "metadata": {},
   "source": [
    "# Résolution de Ax=b avec A une matrice carrée n×n et b∈Rn"
   ]
  },
  {
   "attachments": {},
   "cell_type": "markdown",
   "metadata": {},
   "source": [
    "## Résolution d'un système linéaire triangulaire"
   ]
  },
  {
   "cell_type": "code",
   "execution_count": 16,
   "metadata": {},
   "outputs": [
    {
     "name": "stdout",
     "output_type": "stream",
     "text": [
      "[[5 6 5 1]\n",
      " [0 6 7 8]\n",
      " [0 0 1 2]\n",
      " [0 0 0 1]] [8 3 8 2]\n",
      "[688. 103.  12.   2.]\n"
     ]
    }
   ],
   "source": [
    "def solve_upper(A, b):\n",
    "    assert A.shape[0] == b.shape[0]\n",
    "    n = b.shape[0]\n",
    "    x= np.zeros((n,))\n",
    "    x[n-1] = b[n-1]/A[n-1, n-1]\n",
    "    for i in range(n-1, 0-1, -1):\n",
    "        x[i] = (b[i] - np.sum(A[i, i+1:]*x[i+1:]))/A[i, i]\n",
    "    print(x)\n",
    "\n",
    "A = np.random.randint(1, 10, (4, 4))\n",
    "b = np.random.randint(1, 10, (4, ))\n",
    "\n",
    "mask_l = np.fromfunction(lambda i, j : i>j, (4,4))\n",
    "A[mask_l] = 0\n",
    "print(A, b)\n",
    "solve_upper(A, b)"
   ]
  },
  {
   "cell_type": "code",
   "execution_count": 15,
   "metadata": {},
   "outputs": [
    {
     "data": {
      "text/plain": [
       "array([[1, 1, 5, 1],\n",
       "       [0, 7, 4, 8],\n",
       "       [0, 0, 1, 7],\n",
       "       [0, 0, 0, 2]])"
      ]
     },
     "execution_count": 15,
     "metadata": {},
     "output_type": "execute_result"
    }
   ],
   "source": [
    "A = np.random.randint(1, 10, (4, 4))\n",
    "b = np.random.randint(1, 10, (4, ))\n",
    "\n",
    "mask_l = np.fromfunction(lambda i, j : i>j, (4, 4))\n",
    "A[mask_l] = 0\n",
    "A"
   ]
  },
  {
   "cell_type": "code",
   "execution_count": 26,
   "metadata": {},
   "outputs": [
    {
     "data": {
      "text/plain": [
       "(array([4, 7]), array([2, 8]))"
      ]
     },
     "execution_count": 26,
     "metadata": {},
     "output_type": "execute_result"
    }
   ],
   "source": [
    "i = 1\n",
    "A[i, i+1:], b[i+1:]"
   ]
  }
 ],
 "metadata": {
  "kernelspec": {
   "display_name": "Python 3 (ipykernel)",
   "language": "python",
   "name": "python3"
  },
  "language_info": {
   "codemirror_mode": {
    "name": "ipython",
    "version": 3
   },
   "file_extension": ".py",
   "mimetype": "text/x-python",
   "name": "python",
   "nbconvert_exporter": "python",
   "pygments_lexer": "ipython3",
   "version": "3.10.12"
  }
 },
 "nbformat": 4,
 "nbformat_minor": 4
}

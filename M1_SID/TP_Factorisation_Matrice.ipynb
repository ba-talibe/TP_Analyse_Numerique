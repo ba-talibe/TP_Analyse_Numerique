{
 "cells": [
  {
   "cell_type": "code",
   "execution_count": 10,
   "metadata": {},
   "outputs": [],
   "source": [
    "import numpy as np"
   ]
  },
  {
   "cell_type": "markdown",
   "metadata": {},
   "source": [
    "# Factoraisation LU"
   ]
  },
  {
   "cell_type": "markdown",
   "metadata": {},
   "source": [
    "## Algorithme de crout"
   ]
  },
  {
   "cell_type": "code",
   "execution_count": 11,
   "metadata": {},
   "outputs": [
    {
     "data": {
      "text/plain": [
       "array([[2, 1, 1, 5],\n",
       "       [6, 0, 4, 0],\n",
       "       [4, 8, 4, 0],\n",
       "       [0, 7, 4, 0]])"
      ]
     },
     "execution_count": 11,
     "metadata": {},
     "output_type": "execute_result"
    }
   ],
   "source": [
    "mat = np.random.randint(0, 9, (4, 4))\n",
    "mat"
   ]
  },
  {
   "cell_type": "code",
   "execution_count": 12,
   "metadata": {},
   "outputs": [
    {
     "name": "stdout",
     "output_type": "stream",
     "text": [
      "[[ 1.          0.          0.          0.        ]\n",
      " [ 3.          1.          0.          0.        ]\n",
      " [ 2.         -2.          1.          0.        ]\n",
      " [ 0.         -2.33333333  1.58333333  1.        ]]\n",
      "[[  2.           1.           1.           5.        ]\n",
      " [  0.          -3.           1.         -15.        ]\n",
      " [  0.           0.           4.         -40.        ]\n",
      " [  0.           0.           0.          28.33333333]]\n"
     ]
    }
   ],
   "source": [
    "def decomposition_crout(M : np.ndarray):\n",
    "    n, m = M.shape\n",
    "    assert n==m\n",
    "    L = np.eye(n)\n",
    "    U = np.zeros((n,n))\n",
    "    U [0,:] = M[0, :]\n",
    "    L[1:, 0] = M[1:, 0]*1/U[0, 0]\n",
    "    for k in range(1, n-1):\n",
    "        U[k, k:] = M[k, k:] - L[k, :k]@U[:k, k:]\n",
    "        L[k+1:, k] = (1/U[k, k])*(M[k+1:,k] - L[k+1:, :k]@U[:k, k])\n",
    "    U[n-1, n-1] = M[n-1,n-1] -  L[n-1, :n-1]@U[:n-1, n-1]\n",
    "    return L, U\n",
    "\n",
    "\n",
    "L, U  = decomposition_crout(mat)\n",
    "\n",
    "print(L)\n",
    "print(U)\n"
   ]
  },
  {
   "cell_type": "code",
   "execution_count": 13,
   "metadata": {},
   "outputs": [
    {
     "data": {
      "text/plain": [
       "array([[2., 1., 1., 5.],\n",
       "       [6., 0., 4., 0.],\n",
       "       [4., 8., 4., 0.],\n",
       "       [0., 7., 4., 0.]])"
      ]
     },
     "execution_count": 13,
     "metadata": {},
     "output_type": "execute_result"
    }
   ],
   "source": [
    "L@U\n"
   ]
  },
  {
   "cell_type": "markdown",
   "metadata": {},
   "source": [
    "# Résolution de systeme"
   ]
  },
  {
   "cell_type": "code",
   "execution_count": 14,
   "metadata": {},
   "outputs": [],
   "source": [
    "def my_up(A, b):\n",
    "    assert A.shape[0] == b.shape[0]\n",
    "    n = b.shape[0]\n",
    "    x= np.zeros((n,))\n",
    "    for i in range(n-1, -1, -1):\n",
    "        x[i] = (b[i] - np.sum(A[i, i+1:]*x[i+1:]))/A[i, i]"
   ]
  },
  {
   "cell_type": "code",
   "execution_count": 15,
   "metadata": {},
   "outputs": [
    {
     "name": "stdout",
     "output_type": "stream",
     "text": [
      "2 [-2.  6.]\n",
      "5 [    5.  -120.   630. -1120.   630.]\n",
      "10 [-9.99772302e+00  9.89801913e+02 -2.37557593e+04  2.40201295e+05\n",
      " -1.26107480e+06  3.78326957e+06 -6.72588075e+06  7.00046751e+06\n",
      " -3.93779280e+06  9.23685928e+05]\n",
      "20 [-3.47644485e+01  5.11015614e+03 -1.71615984e+05  2.14376407e+06\n",
      " -9.31258250e+06 -2.74211830e+07  4.59111316e+08 -2.05689520e+09\n",
      "  4.52030749e+09 -4.37342307e+09 -5.02796937e+08  2.45934298e+09\n",
      "  5.85924129e+09 -1.21170891e+10  2.26396465e+09  9.70803574e+09\n",
      " -6.37877562e+09 -2.43050196e+09  3.60088806e+09 -9.76652983e+08]\n",
      "50 [-3.86662120e+01  6.06433923e+03 -2.32625078e+05  3.77435000e+06\n",
      " -3.16621549e+07  1.48410209e+08 -3.83113237e+08  4.34129658e+08\n",
      "  1.91108970e+08 -9.03218443e+08  1.19485025e+08  1.52169005e+09\n",
      " -1.51062387e+09  5.61528149e+08 -7.54709098e+08  7.24346027e+08\n",
      "  3.15161122e+08 -1.92398157e+08 -1.15135476e+09  1.28918603e+09\n",
      " -3.88156605e+08 -3.28135602e+08  5.83224818e+08  8.95328811e+08\n",
      " -1.06420147e+09 -5.64525295e+08 -8.64135507e+08  9.61806685e+08\n",
      "  1.34949074e+09 -8.25003716e+08 -2.65898177e+08  1.02575454e+08\n",
      " -3.98929389e+08  1.68550479e+09 -8.59778798e+08 -1.26068382e+09\n",
      "  1.43644756e+09 -1.12090008e+09  2.61816976e+08  3.25696682e+08\n",
      "  8.21579029e+08 -2.15576341e+09  3.01077028e+08  1.18054365e+09\n",
      "  8.81452129e+08  1.46811046e+08 -1.38195430e+09 -7.42724907e+08\n",
      "  9.71230374e+08 -6.53073132e+07]\n"
     ]
    }
   ],
   "source": [
    "generate_h = lambda n : np.fromfunction(lambda i, j: 1/(1+ i + j ), (n, n), dtype=int)\n",
    "n = [2, 5, 10, 20, 50]\n",
    "\n",
    "def solve_upper(A, b):\n",
    "    # verifing matrix sizes\n",
    "    assert A.shape[0] == b.shape[0]\n",
    "    n = b.shape[0]\n",
    "    x= np.zeros((n,))\n",
    "    # we compute the last value out of our loop to avoid out of index error during looping\n",
    "    x[n-1] = b[n-1]/A[n-1, n-1]\n",
    "    for i in range(n-2, -1, -1):\n",
    "        x[i] = (b[i] - np.sum(A[i, i+1:]*x[i+1:]))/A[i, i]\n",
    "    return x\n",
    "\n",
    "def solve_lower(A, b):\n",
    "    assert A.shape[0] == b.shape[0]\n",
    "    n = b.shape[0]\n",
    "    x= np.zeros((n,))\n",
    "    x[0] = b[0]/A[0, 0]\n",
    "    for i in range(1, n):\n",
    "        x[i] = (b[i] - np.sum(A[i, :i]*x[:i]))/A[i, i]\n",
    "    return x\n",
    "\n",
    "\n",
    "def solve_Hn(H):\n",
    "    n = H.shape[0]\n",
    "    L, U = decomposition_crout(H)\n",
    "    ones = np.ones((n, ))\n",
    "    y = solve_lower(L, ones)\n",
    "    x = solve_upper(U, y)\n",
    "    return x\n",
    "\n",
    "H_matrix = [generate_h(i) for i in n]\n",
    "\n",
    "\n",
    "for i in range(len(n)):\n",
    "    print(n[i] , solve_Hn(H_matrix[i]))\n",
    "    \n",
    "\n"
   ]
  },
  {
   "cell_type": "markdown",
   "metadata": {},
   "source": [
    "# Factorisation de cholesky"
   ]
  },
  {
   "cell_type": "code",
   "execution_count": 16,
   "metadata": {},
   "outputs": [
    {
     "name": "stdout",
     "output_type": "stream",
     "text": [
      "10 [-9.99745732e+00  9.89781648e+02 -2.37553709e+04  2.40198073e+05\n",
      " -1.26106063e+06  3.78323333e+06 -6.72582503e+06  7.00041675e+06\n",
      " -3.93776755e+06  9.23680645e+05]\n"
     ]
    }
   ],
   "source": [
    "def cholesky(M):\n",
    "    n = M.shape[0]\n",
    "    B = np.zeros((n,n))\n",
    "    B[0, 0] = np.sqrt(M[0, 0])\n",
    "    B[1:, 0] = (1/B[0, 0])*M[1:, 0]\n",
    "    B[0, 1:] = B[1:, 0]\n",
    "    for k in range(1, n-1):\n",
    "        B[k, k] = np.sqrt(M[k, k] - B[k, :k]@B[:k, k])\n",
    "        B[k+1:, k] = (1/B[k, k])*(M[k+1:, k] - B[k+1:, :k]@B[:k, k])\n",
    "        B[k, k+1:] = B[k+1:, k]\n",
    "    B[n-1, n-1]= np.sqrt(M[n-1, n-1] - B[n-1, :n-1]@B[:n-1, n-1])\n",
    "    return B\n",
    "\n",
    "h5 = H_matrix[2]\n",
    "\n",
    "A = .5*(h5 + h5.T)\n",
    "    \n",
    "B = cholesky(A)\n",
    "\n",
    "\n",
    "ones = np.ones((h5.shape[0], ))\n",
    "y = solve_lower(B, ones)\n",
    "x = solve_upper(B.T, y)\n",
    "\n",
    "print(n[2], x)"
   ]
  },
  {
   "cell_type": "code",
   "execution_count": 17,
   "metadata": {},
   "outputs": [
    {
     "data": {
      "text/plain": [
       "array([-9.99982337e+00,  9.89984621e+02, -2.37596706e+04,  2.40236992e+05,\n",
       "       -1.26124560e+06,  3.78374027e+06, -6.72665461e+06,  7.00121663e+06,\n",
       "       -3.93818664e+06,  9.23772647e+05])"
      ]
     },
     "execution_count": 17,
     "metadata": {},
     "output_type": "execute_result"
    }
   ],
   "source": [
    "np.linalg.solve(A, ones)"
   ]
  }
 ],
 "metadata": {
  "kernelspec": {
   "display_name": "Python 3",
   "language": "python",
   "name": "python3"
  },
  "language_info": {
   "codemirror_mode": {
    "name": "ipython",
    "version": 3
   },
   "file_extension": ".py",
   "mimetype": "text/x-python",
   "name": "python",
   "nbconvert_exporter": "python",
   "pygments_lexer": "ipython3",
   "version": "3.9.12"
  }
 },
 "nbformat": 4,
 "nbformat_minor": 2
}

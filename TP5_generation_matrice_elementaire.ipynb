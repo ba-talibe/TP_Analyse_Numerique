{
 "cells": [
  {
   "cell_type": "code",
   "execution_count": 1,
   "metadata": {},
   "outputs": [],
   "source": [
    "import numpy as np"
   ]
  },
  {
   "cell_type": "markdown",
   "metadata": {},
   "source": [
    "# fonction de décomposition d'une matrice carrée 𝐴=𝐿+𝐷+𝑈 avec 𝐷 la matrice diagonale constituée des éléments diagonaux de 𝐴, 𝑈 et 𝐿 des matrices triangulaires respectivement supérieure et inférieure dont les éléments diagonaux sont nuls."
   ]
  },
  {
   "cell_type": "code",
   "execution_count": 41,
   "metadata": {},
   "outputs": [
    {
     "name": "stdout",
     "output_type": "stream",
     "text": [
      "[[0. 0. 0. 0.]\n",
      " [7. 0. 0. 0.]\n",
      " [2. 7. 0. 0.]\n",
      " [4. 5. 4. 0.]]\n",
      "[[8. 0. 0. 0.]\n",
      " [0. 1. 0. 0.]\n",
      " [0. 0. 7. 0.]\n",
      " [0. 0. 0. 3.]]\n",
      "[[0. 7. 7. 1.]\n",
      " [0. 0. 2. 4.]\n",
      " [0. 0. 0. 9.]\n",
      " [0. 0. 0. 0.]]\n"
     ]
    }
   ],
   "source": [
    "def decompose_LDU(A):\n",
    "    #creation de masque de matrice\n",
    "    mask_D = np.fromfunction(lambda i, j : i==j, A.shape) \n",
    "    mask_L = np.fromfunction(lambda i, j : i>j, A.shape)\n",
    "    mask_U = np.fromfunction(lambda i, j : i<j, A.shape)\n",
    "\n",
    "    # extraction des valeur souhaité grace au mask\n",
    "    D = np.zeros(A.shape)\n",
    "    D[mask_D] = A[mask_D]\n",
    "\n",
    "    L = np.zeros(A.shape)\n",
    "    L[mask_L] = A[mask_L]\n",
    "\n",
    "    U = np.zeros(A.shape)\n",
    "    U[mask_U] = A[mask_U]\n",
    "    return L, D, U\n",
    "\n",
    "\n",
    "\n",
    "\n",
    "\n",
    "A = np.random.randint(1, 10, (4, 4))\n",
    "L, D, U = decompose_LDU(A)\n",
    "print(L)\n",
    "print(D)\n",
    "print(U)"
   ]
  },
  {
   "cell_type": "code",
   "execution_count": 36,
   "metadata": {},
   "outputs": [
    {
     "name": "stdout",
     "output_type": "stream",
     "text": [
      "[[41 42]\n",
      " [23 30]]\n",
      "[[41 42]\n",
      " [23 30]]\n"
     ]
    }
   ],
   "source": [
    "def matrice_prod(A, B): \n",
    "    assert A.shape[0] == B.shape[1], \"Taille des matrices non coherantes\"\n",
    "    \n",
    "    return np.array([[np.sum(A[i]*B[:,j])  for j in range(B.shape[1])  ] for i in range(A.shape[0])])\n",
    "\n",
    "\n",
    "A = np.random.randint(1, 10, (2, 2))\n",
    "B = np.random.randint(1, 10, (2, 2))\n",
    "\n",
    "print(matrice_prod(A, B))\n",
    "print(A@B)"
   ]
  },
  {
   "cell_type": "code",
   "execution_count": 38,
   "metadata": {},
   "outputs": [
    {
     "name": "stdout",
     "output_type": "stream",
     "text": [
      "62.6 µs ± 3.92 µs per loop (mean ± std. dev. of 7 runs, 10,000 loops each)\n"
     ]
    }
   ],
   "source": [
    "%timeit matrice_prod(A, B)"
   ]
  },
  {
   "cell_type": "code",
   "execution_count": 39,
   "metadata": {},
   "outputs": [
    {
     "name": "stdout",
     "output_type": "stream",
     "text": [
      "2.95 µs ± 977 ns per loop (mean ± std. dev. of 7 runs, 100,000 loops each)\n"
     ]
    }
   ],
   "source": [
    "%timeit np.dot(A, B)"
   ]
  },
  {
   "cell_type": "markdown",
   "metadata": {},
   "source": [
    "62.6 µs ± 3.92 pour ma fonction contre 2.95 µs ± 977 ns pour numpy"
   ]
  },
  {
   "cell_type": "markdown",
   "metadata": {},
   "source": [
    "On remarque qu'avec la methode des rectangles on par defaut une surestimation de l'integral.\n",
    "Et plus le nombre de subdivision augmente plus "
   ]
  },
  {
   "cell_type": "markdown",
   "metadata": {},
   "source": [
    "## Matrice Elementaire"
   ]
  },
  {
   "cell_type": "code",
   "execution_count": 56,
   "metadata": {},
   "outputs": [
    {
     "data": {
      "text/plain": [
       "array([[1., 0., 0., 0.],\n",
       "       [0., 1., 0., 0.],\n",
       "       [0., 3., 1., 0.],\n",
       "       [0., 0., 0., 1.]])"
      ]
     },
     "execution_count": 56,
     "metadata": {},
     "output_type": "execute_result"
    }
   ],
   "source": [
    "def T(i, j, n):\n",
    "    assert i <= n and j <= n\n",
    "    A = np.eye(n)\n",
    "    i, j = i-1, j-1\n",
    "    temp = A[i].copy()\n",
    "    A[i] = A[j]\n",
    "    A[j] = temp\n",
    "    return A\n",
    "\n",
    "def D(alpha, i,n):\n",
    "    assert i <= n\n",
    "    i = i-1\n",
    "    A = np.eye(n)\n",
    "    A[i, i] = alpha\n",
    "    return A\n",
    "\n",
    "def L(alpha, i, j, n):\n",
    "    assert i <= n and j <= n\n",
    "    A = np.eye(n)\n",
    "    i, j = i-1, j-1\n",
    "    A [i, j] = alpha\n",
    "    return (A)\n",
    "\n",
    "L(3, 3, 2, 4)"
   ]
  },
  {
   "cell_type": "markdown",
   "metadata": {},
   "source": [
    "## invDr(λ) = Dr(1/λ) "
   ]
  },
  {
   "cell_type": "code",
   "execution_count": 51,
   "metadata": {},
   "outputs": [
    {
     "data": {
      "text/plain": [
       "True"
      ]
     },
     "execution_count": 51,
     "metadata": {},
     "output_type": "execute_result"
    }
   ],
   "source": [
    "alpha = 2\n",
    "d = D(alpha, 3, 4) \n",
    "np.all(np.linalg.inv(d) == D(1/alpha, 3, 4))"
   ]
  },
  {
   "cell_type": "markdown",
   "metadata": {},
   "source": [
    "## invLrs (λ) = Lrs (−λ)"
   ]
  },
  {
   "cell_type": "code",
   "execution_count": 53,
   "metadata": {},
   "outputs": [
    {
     "data": {
      "text/plain": [
       "True"
      ]
     },
     "execution_count": 53,
     "metadata": {},
     "output_type": "execute_result"
    }
   ],
   "source": [
    "alpha = 2\n",
    "l = L(alpha, 3, 2, 4) \n",
    "np.all(np.linalg.inv(d) == L(-alpha, 3, 2, 4) )"
   ]
  },
  {
   "cell_type": "markdown",
   "metadata": {},
   "source": [
    "## invTij = Tij"
   ]
  },
  {
   "cell_type": "code",
   "execution_count": 54,
   "metadata": {},
   "outputs": [
    {
     "data": {
      "text/plain": [
       "True"
      ]
     },
     "execution_count": 54,
     "metadata": {},
     "output_type": "execute_result"
    }
   ],
   "source": [
    "alpha = 2\n",
    "t32= T( 3, 2, 4) \n",
    "np.all(np.linalg.inv(t32) == t32 )"
   ]
  },
  {
   "cell_type": "markdown",
   "metadata": {},
   "source": [
    "# Verification des propreités du produit A = Lr1,s(λ1)*Lr2,s(λ2)"
   ]
  },
  {
   "cell_type": "code",
   "execution_count": 61,
   "metadata": {},
   "outputs": [
    {
     "name": "stdout",
     "output_type": "stream",
     "text": [
      "[[1. 0. 0. 0.]\n",
      " [3. 1. 0. 0.]\n",
      " [4. 0. 1. 0.]\n",
      " [0. 0. 0. 1.]]\n",
      "\n",
      "True\n",
      "True\n"
     ]
    }
   ],
   "source": [
    "n= 4 # on va travailler sur une matrice 4x4\n",
    "r1 = 2\n",
    "r2 = 3\n",
    "s = 1\n",
    "\n",
    "lambda1, lambda2 = 3, 4\n",
    "l1= L(lambda1, r1, s, n)\n",
    "l2 = L(lambda2, r2, s, n)\n",
    "\n",
    "A = l1@l2\n",
    "\n",
    "print(A)\n",
    "print()\n",
    "print(A[r1-1, s-1] == lambda1)\n",
    "print(A[r2-1, s-1] == lambda2)"
   ]
  },
  {
   "cell_type": "markdown",
   "metadata": {},
   "source": [
    "# Génération de la matrice 𝑀𝑟((𝜆𝑟+1,…,𝜆𝑛))=𝐿𝑟+1,𝑟(𝜆𝑟+1)…𝐿𝑛,𝑟(𝜆𝑛)"
   ]
  },
  {
   "cell_type": "code",
   "execution_count": 89,
   "metadata": {},
   "outputs": [
    {
     "name": "stdout",
     "output_type": "stream",
     "text": [
      "[[2 6 9 8]\n",
      " [5 2 5 7]\n",
      " [6 5 6 6]\n",
      " [4 2 2 1]]\n",
      "[[1. 0. 0. 0.]\n",
      " [5. 1. 0. 0.]\n",
      " [6. 0. 1. 0.]\n",
      " [4. 0. 0. 1.]]\n"
     ]
    }
   ],
   "source": [
    "def generate_Mr(r, lambda_list , n):\n",
    "    assert 1 <= r <n , print(f\"r : {r}, n : {n}\")\n",
    "    A = np.eye(n)\n",
    "    for row in range(r+1, n+1):\n",
    "        A = A@L(lambda_list[row-r-1], row, r, n)\n",
    "    return A\n",
    "\n",
    "A = np.random.randint(1, 10, (4, 4))\n",
    "\n",
    "r = 1 # ligne 1 index 0\n",
    "print(A)\n",
    "M = generate_Mr(r, A[r:, r-1], A.shape[0])\n",
    "print(M)\n"
   ]
  },
  {
   "cell_type": "code",
   "execution_count": 90,
   "metadata": {},
   "outputs": [
    {
     "name": "stdout",
     "output_type": "stream",
     "text": [
      "[[8 5 3 2 7]\n",
      " [8 3 5 2 9]\n",
      " [3 9 6 4 5]\n",
      " [8 3 1 1 6]\n",
      " [5 7 9 2 9]]\n",
      "[[1. 0. 0. 0. 0.]\n",
      " [0. 1. 0. 0. 0.]\n",
      " [0. 0. 1. 0. 0.]\n",
      " [0. 0. 1. 1. 0.]\n",
      " [0. 0. 9. 0. 1.]]\n"
     ]
    }
   ],
   "source": [
    "A = np.random.randint(1, 10, (5, 5))\n",
    "\n",
    "r = 3# ligne 1 index 0\n",
    "print(A)\n",
    "M = generate_Mr(r, A[r:, r-1], A.shape[0])\n",
    "print(M)"
   ]
  }
 ],
 "metadata": {
  "kernelspec": {
   "display_name": "Python 3",
   "language": "python",
   "name": "python3"
  },
  "language_info": {
   "codemirror_mode": {
    "name": "ipython",
    "version": 3
   },
   "file_extension": ".py",
   "mimetype": "text/x-python",
   "name": "python",
   "nbconvert_exporter": "python",
   "pygments_lexer": "ipython3",
   "version": "3.9.12"
  }
 },
 "nbformat": 4,
 "nbformat_minor": 2
}

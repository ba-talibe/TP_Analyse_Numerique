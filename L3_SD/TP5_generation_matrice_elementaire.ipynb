{
 "cells": [
  {
   "cell_type": "code",
   "execution_count": 2,
   "metadata": {},
   "outputs": [],
   "source": [
    "import numpy as np"
   ]
  },
  {
   "attachments": {},
   "cell_type": "markdown",
   "metadata": {},
   "source": [
    "# fonction de décomposition d'une matrice carrée 𝐴=𝐿+𝐷+𝑈 avec 𝐷 la matrice diagonale constituée des éléments diagonaux de 𝐴, 𝑈 et 𝐿 des matrices triangulaires respectivement supérieure et inférieure dont les éléments diagonaux sont nuls."
   ]
  },
  {
   "cell_type": "code",
   "execution_count": 2,
   "metadata": {},
   "outputs": [
    {
     "name": "stdout",
     "output_type": "stream",
     "text": [
      "[[0. 0. 0. 0.]\n",
      " [4. 0. 0. 0.]\n",
      " [9. 3. 0. 0.]\n",
      " [7. 5. 7. 0.]]\n",
      "[[2. 0. 0. 0.]\n",
      " [0. 1. 0. 0.]\n",
      " [0. 0. 3. 0.]\n",
      " [0. 0. 0. 2.]]\n",
      "[[0. 5. 7. 4.]\n",
      " [0. 0. 5. 9.]\n",
      " [0. 0. 0. 7.]\n",
      " [0. 0. 0. 0.]]\n"
     ]
    }
   ],
   "source": [
    "def decompose_LDU(A):\n",
    "    #creation de masque de matrice\n",
    "    mask_D = np.fromfunction(lambda i, j : i==j, A.shape) \n",
    "    mask_L = np.fromfunction(lambda i, j : i>j, A.shape)\n",
    "    mask_U = np.fromfunction(lambda i, j : i<j, A.shape)\n",
    "\n",
    "    # extraction des valeur souhaité grace au mask\n",
    "    D = np.zeros(A.shape)\n",
    "    D[mask_D] = A[mask_D]\n",
    "\n",
    "    L = np.zeros(A.shape)\n",
    "    L[mask_L] = A[mask_L]\n",
    "\n",
    "    U = np.zeros(A.shape)\n",
    "    U[mask_U] = A[mask_U]\n",
    "    return L, D, U\n",
    "\n",
    "\n",
    "\n",
    "\n",
    "\n",
    "A = np.random.randint(1, 10, (4, 4))\n",
    "L, D, U = decompose_LDU(A)\n",
    "print(L)\n",
    "print(D)\n",
    "print(U)"
   ]
  },
  {
   "cell_type": "code",
   "execution_count": 3,
   "metadata": {},
   "outputs": [
    {
     "name": "stdout",
     "output_type": "stream",
     "text": [
      "[[27 34]\n",
      " [20 30]]\n",
      "[[27 34]\n",
      " [20 30]]\n"
     ]
    }
   ],
   "source": [
    "def matrice_prod(A, B): \n",
    "    assert A.shape[0] == B.shape[1], \"Taille des matrices non coherantes\"\n",
    "    \n",
    "    return np.array([[np.sum(A[i]*B[:,j])  for j in range(B.shape[1])  ] for i in range(A.shape[0])])\n",
    "\n",
    "\n",
    "A = np.random.randint(1, 10, (2, 2))\n",
    "B = np.random.randint(1, 10, (2, 2))\n",
    "\n",
    "print(matrice_prod(A, B))\n",
    "print(A@B)"
   ]
  },
  {
   "cell_type": "code",
   "execution_count": 4,
   "metadata": {},
   "outputs": [
    {
     "name": "stdout",
     "output_type": "stream",
     "text": [
      "88.3 µs ± 27.1 µs per loop (mean ± std. dev. of 7 runs, 10,000 loops each)\n"
     ]
    }
   ],
   "source": [
    "%timeit matrice_prod(A, B)"
   ]
  },
  {
   "cell_type": "code",
   "execution_count": 5,
   "metadata": {},
   "outputs": [
    {
     "name": "stdout",
     "output_type": "stream",
     "text": [
      "4.49 µs ± 1.5 µs per loop (mean ± std. dev. of 7 runs, 100,000 loops each)\n"
     ]
    }
   ],
   "source": [
    "%timeit np.dot(A, B)"
   ]
  },
  {
   "attachments": {},
   "cell_type": "markdown",
   "metadata": {},
   "source": [
    "62.6 µs ± 3.92 pour ma fonction contre 2.95 µs ± 977 ns pour numpy"
   ]
  },
  {
   "attachments": {},
   "cell_type": "markdown",
   "metadata": {},
   "source": [
    "On remarque qu'avec la methode des rectangles on par defaut une surestimation de l'integral.\n",
    "Et plus le nombre de subdivision augmente plus "
   ]
  },
  {
   "attachments": {},
   "cell_type": "markdown",
   "metadata": {},
   "source": [
    "## Matrice Elementaire"
   ]
  },
  {
   "cell_type": "code",
   "execution_count": 14,
   "metadata": {},
   "outputs": [],
   "source": [
    "def T(i, j, n):\n",
    "    assert i <= n and j <= n\n",
    "    A = np.eye(n)\n",
    "    i, j = i-1, j-1\n",
    "    temp = A[i].copy()\n",
    "    A[i] = A[j]\n",
    "    A[j] = temp\n",
    "    return A\n",
    "\n",
    "def D(alpha, i,n):\n",
    "    assert i <= n\n",
    "    i = i-1\n",
    "    A = np.eye(n)\n",
    "    A[i, i] = alpha\n",
    "    return A\n",
    "\n",
    "def L(alpha, i, j, n):\n",
    "    assert i < n and j < n\n",
    "    A = np.eye(n)\n",
    "    # i, j = i-1, j-1\n",
    "    A [i, j] = alpha\n",
    "    return (A)\n",
    "\n",
    "\n",
    "\n"
   ]
  },
  {
   "attachments": {},
   "cell_type": "markdown",
   "metadata": {},
   "source": [
    "## invDr(λ) = Dr(1/λ) "
   ]
  },
  {
   "cell_type": "code",
   "execution_count": 7,
   "metadata": {},
   "outputs": [
    {
     "data": {
      "text/plain": [
       "True"
      ]
     },
     "execution_count": 7,
     "metadata": {},
     "output_type": "execute_result"
    }
   ],
   "source": [
    "alpha = 2\n",
    "d = D(alpha, 3, 4) \n",
    "np.all(np.linalg.inv(d) == D(1/alpha, 3, 4))"
   ]
  },
  {
   "attachments": {},
   "cell_type": "markdown",
   "metadata": {},
   "source": [
    "## invLrs (λ) = Lrs (−λ)"
   ]
  },
  {
   "cell_type": "code",
   "execution_count": 8,
   "metadata": {},
   "outputs": [
    {
     "data": {
      "text/plain": [
       "False"
      ]
     },
     "execution_count": 8,
     "metadata": {},
     "output_type": "execute_result"
    }
   ],
   "source": [
    "alpha = 2\n",
    "l = L(alpha, 3, 2, 4) \n",
    "np.all(np.linalg.inv(d) == L(-alpha, 3, 2, 4) )"
   ]
  },
  {
   "attachments": {},
   "cell_type": "markdown",
   "metadata": {},
   "source": [
    "## invTij = Tij"
   ]
  },
  {
   "cell_type": "code",
   "execution_count": 9,
   "metadata": {},
   "outputs": [
    {
     "data": {
      "text/plain": [
       "True"
      ]
     },
     "execution_count": 9,
     "metadata": {},
     "output_type": "execute_result"
    }
   ],
   "source": [
    "alpha = 2\n",
    "t32= T( 3, 2, 4) \n",
    "np.all(np.linalg.inv(t32) == t32 )"
   ]
  },
  {
   "attachments": {},
   "cell_type": "markdown",
   "metadata": {},
   "source": [
    "# Verification des propreités du produit A = Lr1,s(λ1)*Lr2,s(λ2)"
   ]
  },
  {
   "cell_type": "code",
   "execution_count": 10,
   "metadata": {},
   "outputs": [
    {
     "name": "stdout",
     "output_type": "stream",
     "text": [
      "[[1. 0. 0. 0.]\n",
      " [3. 1. 0. 0.]\n",
      " [4. 0. 1. 0.]\n",
      " [0. 0. 0. 1.]]\n",
      "\n",
      "True\n",
      "True\n"
     ]
    }
   ],
   "source": [
    "n= 4 # on va travailler sur une matrice 4x4\n",
    "r1 = 2\n",
    "r2 = 3\n",
    "s = 1\n",
    "\n",
    "lambda1, lambda2 = 3, 4\n",
    "l1= L(lambda1, r1, s, n)\n",
    "l2 = L(lambda2, r2, s, n)\n",
    "\n",
    "A = l1@l2\n",
    "\n",
    "print(A)\n",
    "print()\n",
    "print(A[r1-1, s-1] == lambda1)\n",
    "print(A[r2-1, s-1] == lambda2)"
   ]
  },
  {
   "attachments": {},
   "cell_type": "markdown",
   "metadata": {},
   "source": [
    "# Génération de la matrice 𝑀𝑟((𝜆𝑟+1,…,𝜆𝑛))=𝐿𝑟+1,𝑟(𝜆𝑟+1)…𝐿𝑛,𝑟(𝜆𝑛)"
   ]
  },
  {
   "cell_type": "code",
   "execution_count": 5,
   "metadata": {},
   "outputs": [
    {
     "name": "stdout",
     "output_type": "stream",
     "text": [
      "[[4 3 2 6]\n",
      " [6 7 2 6]\n",
      " [2 9 8 7]\n",
      " [2 6 8 8]]\n"
     ]
    }
   ],
   "source": [
    "A = np.random.randint(1, 10, (4, 4))\n",
    "\n",
    "print(A)"
   ]
  },
  {
   "cell_type": "code",
   "execution_count": 6,
   "metadata": {},
   "outputs": [
    {
     "ename": "IndexError",
     "evalue": "index 0 is out of bounds for axis 0 with size 0",
     "output_type": "error",
     "traceback": [
      "\u001b[0;31m---------------------------------------------------------------------------\u001b[0m",
      "\u001b[0;31mIndexError\u001b[0m                                Traceback (most recent call last)",
      "Cell \u001b[0;32mIn[6], line 14\u001b[0m\n\u001b[1;32m      9\u001b[0m     \u001b[38;5;28;01mreturn\u001b[39;00m A, Ap\n\u001b[1;32m     13\u001b[0m r \u001b[38;5;241m=\u001b[39m \u001b[38;5;241m3\u001b[39m \u001b[38;5;66;03m# ligne 1 index 0\u001b[39;00m\n\u001b[0;32m---> 14\u001b[0m Mdk \u001b[38;5;241m=\u001b[39m \u001b[43mMr\u001b[49m\u001b[43m(\u001b[49m\u001b[43mA\u001b[49m\u001b[43m,\u001b[49m\u001b[43m \u001b[49m\u001b[43mr\u001b[49m\u001b[43m,\u001b[49m\u001b[43m  \u001b[49m\u001b[43mA\u001b[49m\u001b[38;5;241;43m.\u001b[39;49m\u001b[43mshape\u001b[49m\u001b[43m[\u001b[49m\u001b[38;5;241;43m0\u001b[39;49m\u001b[43m]\u001b[49m\u001b[43m)\u001b[49m \n",
      "Cell \u001b[0;32mIn[4], line 30\u001b[0m, in \u001b[0;36mMr\u001b[0;34m(M, r, n)\u001b[0m\n\u001b[1;32m     28\u001b[0m Ap \u001b[38;5;241m=\u001b[39m np\u001b[38;5;241m.\u001b[39meye(n)\n\u001b[1;32m     29\u001b[0m \u001b[38;5;28;01mfor\u001b[39;00m row \u001b[38;5;129;01min\u001b[39;00m \u001b[38;5;28mrange\u001b[39m(r, n):\n\u001b[0;32m---> 30\u001b[0m     A \u001b[38;5;241m=\u001b[39m A\u001b[38;5;129m@L\u001b[39m(\u001b[38;5;241m-\u001b[39m\u001b[43mlambda_list\u001b[49m\u001b[43m[\u001b[49m\u001b[43mrow\u001b[49m\u001b[38;5;241;43m-\u001b[39;49m\u001b[43mr\u001b[49m\u001b[43m]\u001b[49m\u001b[38;5;241m/\u001b[39mM[r, r], row, r, n)\n\u001b[1;32m     31\u001b[0m     \u001b[38;5;66;03m# Ap = Ap@L(lambda_list[row-r-1]/M[r-1, r-1], row, r, n)\u001b[39;00m\n\u001b[1;32m     32\u001b[0m \u001b[38;5;28;01mreturn\u001b[39;00m A\n",
      "\u001b[0;31mIndexError\u001b[0m: index 0 is out of bounds for axis 0 with size 0"
     ]
    }
   ],
   "source": [
    "def generate_Mr_down(M, r , n):\n",
    "    assert 1 <= r <=n , print(f\"r : {r}, n : {n}\")\n",
    "    lambda_list = M[r:, r-1]\n",
    "    A = np.eye(n)\n",
    "    Ap = np.eye(n)\n",
    "    for row in range(r+1, n+1):\n",
    "        A = A@L(-lambda_list[row-r-1]/M[r-1, r-1], row, r, n)\n",
    "        Ap = Ap@L(lambda_list[row-r-1]/M[r-1, r-1], row, r, n)\n",
    "    return A, Ap\n",
    "\n",
    "\n",
    "\n",
    "r = 3 # ligne 1 index 0\n",
    "Mdk = [generate_Mr_down(A, r,  A.shape[0])  for r in range(1, A.shape[0]+1)]\n",
    "for m in Mdk:\n",
    "    print(m)\n"
   ]
  },
  {
   "cell_type": "code",
   "execution_count": 13,
   "metadata": {},
   "outputs": [
    {
     "name": "stdout",
     "output_type": "stream",
     "text": [
      "(array([[1., 0., 0., 0.],\n",
      "       [0., 1., 0., 0.],\n",
      "       [0., 0., 1., 0.],\n",
      "       [0., 0., 0., 1.]]), array([[1., 0., 0., 0.],\n",
      "       [0., 1., 0., 0.],\n",
      "       [0., 0., 1., 0.],\n",
      "       [0., 0., 0., 1.]]))\n",
      "(array([[ 1.  , -1.25,  0.  ,  0.  ],\n",
      "       [ 0.  ,  1.  ,  0.  ,  0.  ],\n",
      "       [ 0.  ,  0.  ,  1.  ,  0.  ],\n",
      "       [ 0.  ,  0.  ,  0.  ,  1.  ]]), array([[1.  , 1.25, 0.  , 0.  ],\n",
      "       [0.  , 1.  , 0.  , 0.  ],\n",
      "       [0.  , 0.  , 1.  , 0.  ],\n",
      "       [0.  , 0.  , 0.  , 1.  ]]))\n",
      "(array([[ 1. ,  0. , -1. ,  0. ],\n",
      "       [ 0. ,  1. , -1.6,  0. ],\n",
      "       [ 0. ,  0. ,  1. ,  0. ],\n",
      "       [ 0. ,  0. ,  0. ,  1. ]]), array([[1. , 0. , 1. , 0. ],\n",
      "       [0. , 1. , 1.6, 0. ],\n",
      "       [0. , 0. , 1. , 0. ],\n",
      "       [0. , 0. , 0. , 1. ]]))\n",
      "(array([[ 1.  ,  0.  ,  0.  , -0.5 ],\n",
      "       [ 0.  ,  1.  ,  0.  , -0.75],\n",
      "       [ 0.  ,  0.  ,  1.  , -0.75],\n",
      "       [ 0.  ,  0.  ,  0.  ,  1.  ]]), array([[1.  , 0.  , 0.  , 0.5 ],\n",
      "       [0.  , 1.  , 0.  , 0.75],\n",
      "       [0.  , 0.  , 1.  , 0.75],\n",
      "       [0.  , 0.  , 0.  , 1.  ]]))\n"
     ]
    }
   ],
   "source": [
    "def generate_Mr_up(M, r , n):\n",
    "    assert 1 <= r <=n , print(f\"r : {r}, n : {n}\")\n",
    "    lambda_list = M[:r-1, r-1]\n",
    "    A = np.eye(n)\n",
    "    Ap = np.eye(n)\n",
    "    for row in range(r-2, -1, -1):\n",
    "        A = A@L(-lambda_list[row]/M[r-1, r-1], row+1, r, n)\n",
    "        Ap = Ap@L(lambda_list[row]/M[r-1, r-1], row+1, r, n)\n",
    "    return A, Ap\n",
    "\n",
    "r = 3 # ligne 1 index 0\n",
    "Muk = [generate_Mr_up(A, r,  A.shape[0])  for r in range(1, A.shape[0]+1)]\n",
    "for muk in  Muk :\n",
    "    print(muk)"
   ]
  }
 ],
 "metadata": {
  "kernelspec": {
   "display_name": "Python 3 (ipykernel)",
   "language": "python",
   "name": "python3"
  },
  "language_info": {
   "codemirror_mode": {
    "name": "ipython",
    "version": 3
   },
   "file_extension": ".py",
   "mimetype": "text/x-python",
   "name": "python",
   "nbconvert_exporter": "python",
   "pygments_lexer": "ipython3",
   "version": "3.9.12"
  }
 },
 "nbformat": 4,
 "nbformat_minor": 4
}

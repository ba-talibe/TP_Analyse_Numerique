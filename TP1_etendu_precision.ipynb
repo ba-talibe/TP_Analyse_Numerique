{
 "cells": [
  {
   "cell_type": "code",
   "execution_count": 21,
   "metadata": {},
   "outputs": [],
   "source": [
    "import numpy as np"
   ]
  },
  {
   "cell_type": "markdown",
   "metadata": {},
   "source": [
    "# approximations 𝜋4 ou 𝜋2 par les différentes formules vues en TD avec nombre d'itérations pour obtenir"
   ]
  },
  {
   "cell_type": "markdown",
   "metadata": {},
   "source": [
    "## pi/4"
   ]
  },
  {
   "cell_type": "code",
   "execution_count": 48,
   "metadata": {},
   "outputs": [],
   "source": [
    "def approximate(precision : float = None, iter : int = None  ) -> float:\n",
    "\n",
    "    assert precision != None or iter != None, \"both parameter are None\"\n",
    "\n",
    "    s = 0\n",
    "    i = 0\n",
    "    t = 1\n",
    "    if precision:\n",
    "        \n",
    "        while np.abs(t) > precision:\n",
    "            s += t\n",
    "            i += 1\n",
    "            t = -2/((4*i  - 1)*(4*i + 1))\n",
    "        \n",
    "        return s, i\n",
    "    \n",
    "    if iter:\n",
    "        for i in range(1, iter):\n",
    "            s += t\n",
    "            to = t\n",
    "            t = -2/((4*i  - 1)* (4*i + 1))\n",
    "\n",
    "        return s, to-t\n",
    "\n"
   ]
  },
  {
   "cell_type": "code",
   "execution_count": 45,
   "metadata": {},
   "outputs": [
    {
     "name": "stdout",
     "output_type": "stream",
     "text": [
      "aproximation : 0.7857517700098428 , precision 1e-06 ,  iteration : 354\n",
      "aproximation : 0.785509920209031 , precision 1e-07 ,  iteration : 1119\n",
      "aproximation : 0.7854335190753924 , precision 1e-08 ,  iteration : 3536\n"
     ]
    }
   ],
   "source": [
    "precisions = [10**-i for i in range(6, 9)]\n",
    "for precision in precisions:\n",
    "    approx, iteration = approximate(precision=precision)\n",
    "    print(f\"aproximation : {approx} , precision {precision} ,  iteration : {iteration}\" )\n",
    "\n"
   ]
  },
  {
   "cell_type": "code",
   "execution_count": 49,
   "metadata": {},
   "outputs": [
    {
     "name": "stdout",
     "output_type": "stream",
     "text": [
      "aproximation : 0.7866671907558276 , precision -2.616129839116526e-07 ,  iteration : 100\n",
      "aproximation : 0.7855233511712733 , precision -2.5112854088377533e-10 ,  iteration : 1000\n",
      "aproximation : 0.7854106652727231 , precision -2.5011253532196547e-13 ,  iteration : 10000\n"
     ]
    }
   ],
   "source": [
    "iterations = [10**i for i in range(2, 5)]\n",
    "for iteration in iterations:\n",
    "    approx, precision = approximate(iter=iteration)\n",
    "    print(f\"aproximation : {approx} , precision {precision} ,  iteration : {iteration}\" )\n",
    "    # print(f\"nombre d'iterations {iteration}  : \", approximate(iter=iteration))\n"
   ]
  },
  {
   "cell_type": "markdown",
   "metadata": {},
   "source": [
    "## pi/2"
   ]
  },
  {
   "cell_type": "code",
   "execution_count": 72,
   "metadata": {},
   "outputs": [],
   "source": [
    "\n",
    "\n",
    "\n",
    "\n",
    "def approximate(next_step_formula ,s0=0, t0=0,operator=lambda s, i :s + i, precision : float = None, iter : int = None , convergence_criteria=None ) -> float:\n",
    "\n",
    "    assert precision != None or iter != None, \"both parameter are None\"\n",
    "\n",
    "    s = s0\n",
    "    i = 0\n",
    "    t = t0\n",
    "    if precision:\n",
    "        if convergence_criteria == None:\n",
    "            \n",
    "            #Si on a une somme  alors elle converge quand les terme a ajouter sont inferieur a la pprecision\n",
    "\n",
    "            \n",
    "            if s == 0:\n",
    "                convergence_criteria = lambda t, step, precision: np.abs(t) > precision\n",
    "            #Si on a un produit  alors elle converge quand les facteurs sont tres proche de 1 par defaut\n",
    "            # donc la difference entre 1 et le facteur est inferieur a precision\n",
    "            if s == 1:\n",
    "                convergence_criteria = lambda t, step, precision: np.abs(t - 1) > precision\n",
    "                \n",
    "        while convergence_criteria(t,i,  precision):\n",
    "            s = operator(s, t)\n",
    "            i += 1\n",
    "            t = next_step_formula(i)\n",
    "        \n",
    "        return s, i\n",
    "    \n",
    "    if iter:\n",
    "        for i in range(1, iter):\n",
    "            s = operator(s, t)\n",
    "            to = t\n",
    "            t = next_step_formula(i)\n",
    "\n",
    "        return s, to-t\n",
    "\n",
    "\n"
   ]
  },
  {
   "cell_type": "markdown",
   "metadata": {},
   "source": [
    "### pi/2 par somme"
   ]
  },
  {
   "cell_type": "code",
   "execution_count": 85,
   "metadata": {},
   "outputs": [],
   "source": [
    "terme_i = lambda i:  8/((4*i + 1)*(4*i + 3)*(4*i + 5))\n",
    "\n",
    "convergence_criteria = lambda t, step, precision: np.abs(t) > precision"
   ]
  },
  {
   "cell_type": "code",
   "execution_count": 86,
   "metadata": {},
   "outputs": [
    {
     "name": "stdout",
     "output_type": "stream",
     "text": [
      "aproximation : 1.5707715761573853 , precision 1e-06 ,  iteration : 50\n",
      "aproximation : 1.5707908932820747 , precision 1e-07 ,  iteration : 107\n",
      "aproximation : 1.5707951681040784 , precision 1e-08 ,  iteration : 232\n"
     ]
    }
   ],
   "source": [
    "precisions = [10**-i for i in range(6, 9)]\n",
    "for precision in precisions:\n",
    "    approx, iteration = approximate(terme_i,s0=1, t0=terme_i(0),convergence_criteria=convergence_criteria, precision=precision)\n",
    "    print(f\"aproximation : {approx} , precision {precision} ,  iteration : {iteration}\" )\n",
    "\n"
   ]
  },
  {
   "cell_type": "code",
   "execution_count": 87,
   "metadata": {},
   "outputs": [
    {
     "name": "stdout",
     "output_type": "stream",
     "text": [
      "aproximation : 1.5707899820600717 , precision 3.86513189695261e-09 ,  iteration : 100\n",
      "aproximation : 1.5707962642010493 , precision 3.7612758340862146e-13 ,  iteration : 1000\n",
      "aproximation : 1.5707963261698095 , precision 3.751125257866389e-17 ,  iteration : 10000\n"
     ]
    }
   ],
   "source": [
    "iterations = [10**i for i in range(2, 5)]\n",
    "for iteration in iterations:\n",
    "    approx, precision = approximate(terme_i,s0=1, t0=terme_i(0),iter=iteration)\n",
    "    print(f\"aproximation : {approx} , precision {precision} ,  iteration : {iteration}\" )\n",
    "    # print(f\"nombre d'iterations {iteration}  : \", approximate(iter=iteration))\n"
   ]
  },
  {
   "cell_type": "markdown",
   "metadata": {},
   "source": [
    "## pi/2 par produit"
   ]
  },
  {
   "cell_type": "code",
   "execution_count": 59,
   "metadata": {},
   "outputs": [],
   "source": [
    "facteur_i = lambda i: 4*i**2/(4*i**2 - 1)"
   ]
  },
  {
   "cell_type": "code",
   "execution_count": 79,
   "metadata": {},
   "outputs": [
    {
     "name": "stdout",
     "output_type": "stream",
     "text": [
      "aproximation : 1.5700119093003002 , precision 1e-06 ,  iteration : 501\n",
      "aproximation : 1.5705480384368253 , precision 1e-07 ,  iteration : 1582\n",
      "aproximation : 1.570717796794952 , precision 1e-08 ,  iteration : 5001\n"
     ]
    }
   ],
   "source": [
    "def convergence_criteria(t, step, precision, **kwargs):\n",
    "    if step == 0:\n",
    "        return True\n",
    "    return 1/(4*step**2 - 1) > precision\n",
    "\n",
    "precisions = [10**-i for i in range(6, 9)]\n",
    "for precision in precisions:\n",
    "    approx, iteration = approximate(facteur_i,operator=lambda p, f: p*f,s0=1, t0=1,convergence_criteria=convergence_criteria, precision=precision)\n",
    "    print(f\"aproximation : {approx} , precision {precision} ,  iteration : {iteration}\" )\n",
    "\n"
   ]
  },
  {
   "cell_type": "code",
   "execution_count": 80,
   "metadata": {},
   "outputs": [
    {
     "name": "stdout",
     "output_type": "stream",
     "text": [
      "aproximation : 1.5668146062687602 , precision 5.232461930404497e-07 ,  iteration : 100\n",
      "aproximation : 1.5704030870269818 , precision 5.022573468238534e-10 ,  iteration : 1000\n",
      "aproximation : 1.5707570514864078 , precision 5.002664948960955e-13 ,  iteration : 10000\n"
     ]
    }
   ],
   "source": [
    "iterations = [10**i for i in range(2, 5)]\n",
    "for iteration in iterations:\n",
    "    approx, precision = approximate(facteur_i,operator=lambda p, f: p*f,s0=1, t0=1,iter=iteration)\n",
    "    print(f\"aproximation : {approx} , precision {precision} ,  iteration : {iteration}\" )\n"
   ]
  },
  {
   "cell_type": "markdown",
   "metadata": {},
   "source": [
    "# calcul itératif et récursif du factoriel d'un entier"
   ]
  },
  {
   "cell_type": "code",
   "execution_count": 98,
   "metadata": {},
   "outputs": [
    {
     "name": "stdout",
     "output_type": "stream",
     "text": [
      "120\n"
     ]
    }
   ],
   "source": [
    "def iter_fact(n):\n",
    "    f = 1\n",
    "    for i in range(1, n+1):\n",
    "        f *= i\n",
    "    return f\n",
    "\n",
    "\n",
    "\n",
    "def recc_fact(n):\n",
    "    if n == 0:\n",
    "        return 1\n",
    "    return n*recc_fact(n-1) \n",
    "\n",
    "assert recc_fact(5) == iter_fact(5)\n",
    "\n",
    "print(recc_fact(5))"
   ]
  },
  {
   "cell_type": "markdown",
   "metadata": {},
   "source": [
    "# calcul de ∑1/𝑖 dans le sens des 𝑖croissant et dans le sens des 𝑖 décroissants."
   ]
  },
  {
   "cell_type": "markdown",
   "metadata": {},
   "source": [
    "## Sens Croissant"
   ]
  },
  {
   "cell_type": "code",
   "execution_count": 103,
   "metadata": {},
   "outputs": [
    {
     "name": "stdout",
     "output_type": "stream",
     "text": [
      "5.187377517639621\n"
     ]
    }
   ],
   "source": [
    "n= 100\n",
    "s=0\n",
    "for i in range(1, n+1):\n",
    "    s += 1/i\n",
    "print(s)"
   ]
  },
  {
   "cell_type": "markdown",
   "metadata": {},
   "source": [
    "## Sens Decroissant"
   ]
  },
  {
   "cell_type": "code",
   "execution_count": 106,
   "metadata": {},
   "outputs": [
    {
     "name": "stdout",
     "output_type": "stream",
     "text": [
      "5.1873775176396215\n"
     ]
    }
   ],
   "source": [
    "n= 100\n",
    "s=0\n",
    "for i in range(n, 0, -1):\n",
    "    s += 1/i\n",
    "print(s)"
   ]
  },
  {
   "cell_type": "markdown",
   "metadata": {},
   "source": [
    "# calcul de cos(𝑥) par développement limité (avec et sans récurrence)"
   ]
  },
  {
   "cell_type": "markdown",
   "metadata": {},
   "source": [
    "## Avec récurrence"
   ]
  },
  {
   "cell_type": "code",
   "execution_count": 134,
   "metadata": {},
   "outputs": [],
   "source": [
    "def dl_cosx(ti, x, precision, i):\n",
    "    if ti < precision:\n",
    "        return (ti, i)\n",
    "    next_term = lambda ti,x, i : (-ti*x**2)/((2*i + 1)*(2*i + 2))\n",
    "\n",
    "    return (ti + dl_cosx(next_term(ti, x, i), x, precision, i+1)[0], i)"
   ]
  },
  {
   "cell_type": "code",
   "execution_count": 136,
   "metadata": {},
   "outputs": [
    {
     "name": "stdout",
     "output_type": "stream",
     "text": [
      "pi/4 |  nombre diteration   |  precision           |  Cos(x) calcule      |  resultat numpy      |  erreur en valeur absolu\n",
      "pi/4 |  0                   |  0.1                 |  0.6915748624659576  |  0.7071067811865476  |  0.01553191872059001 \n",
      "pi/4 |  0                   |  0.01                |  0.6915748624659576  |  0.7071067811865476  |  0.01553191872059001 \n",
      "pi/4 |  0                   |  0.001               |  0.6915748624659576  |  0.7071067811865476  |  0.01553191872059001 \n",
      "pi/4 |  0                   |  0.0001              |  0.6915748624659576  |  0.7071067811865476  |  0.01553191872059001 \n",
      "pi/4 |  0                   |  1e-05               |  0.6915748624659576  |  0.7071067811865476  |  0.01553191872059001 \n"
     ]
    }
   ],
   "source": [
    "x = np.pi/4\n",
    "\n",
    "\n",
    "s = 0\n",
    "t = 1\n",
    "i = 0\n",
    "\n",
    "precisions = [10**-i for i in range(1, 6)]\n",
    "\n",
    "cos_numpy = np.cos(x)\n",
    "entete = \"{:<5}|  {:<20}|  {:<20}|  {:<20}|  {:<20}|  {:<20}\".format(\"pi/4\", \"nombre diteration\",\"precision\" ,\"Cos(x) calcule\", \"resultat numpy\", \"erreur en valeur absolu\" )\n",
    "print(entete)\n",
    "\n",
    "for precision in precisions:\n",
    "    s = 1\n",
    "    t = 1\n",
    "    i = 0\n",
    "\n",
    "    s, iter = dl_cosx(s, x, precision, i)\n",
    "    ligne= \"{:<5}|  {:<20}|  {:<20}|  {:<20}|  {:<20}|  {:<20}\".format(\"pi/4\", iter, precision ,s, cos_numpy, np.abs(s-cos_numpy))\n",
    "    print(ligne)\n"
   ]
  },
  {
   "cell_type": "markdown",
   "metadata": {},
   "source": []
  }
 ],
 "metadata": {
  "kernelspec": {
   "display_name": "Python 3",
   "language": "python",
   "name": "python3"
  },
  "language_info": {
   "codemirror_mode": {
    "name": "ipython",
    "version": 3
   },
   "file_extension": ".py",
   "mimetype": "text/x-python",
   "name": "python",
   "nbconvert_exporter": "python",
   "pygments_lexer": "ipython3",
   "version": "3.9.12"
  }
 },
 "nbformat": 4,
 "nbformat_minor": 2
}
